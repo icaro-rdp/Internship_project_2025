{
 "cells": [
  {
   "cell_type": "markdown",
   "metadata": {},
   "source": [
    "# Import libraries"
   ]
  },
  {
   "cell_type": "code",
   "execution_count": 1,
   "metadata": {},
   "outputs": [],
   "source": [
    "import torch\n",
    "import torch.nn as nn\n",
    "import torch.optim as optim\n",
    "from torchvision import models, transforms\n",
    "from torchvision.models import resnet152, ResNet152_Weights\n",
    "from torch.utils.data import Dataset, DataLoader, random_split\n",
    "import pandas as pd\n",
    "from PIL import Image\n",
    "import os\n",
    "import numpy as np"
   ]
  },
  {
   "cell_type": "markdown",
   "metadata": {},
   "source": [
    "# Database creations using pytorch Dataset "
   ]
  },
  {
   "cell_type": "code",
   "execution_count": 2,
   "metadata": {},
   "outputs": [],
   "source": [
    "class ImageAuthenticityDataset(Dataset):\n",
    "    \"\"\"Dataset for image quality assessment.\"\"\"\n",
    "\n",
    "    def __init__(self, csv_file, transform=None):\n",
    "        \"\"\"\n",
    "        Args:\n",
    "            csv_file (string): Path to the CSV file with annotations.\n",
    "            transform (callable, optional): Optional transform to be applied on a sample.\n",
    "        \"\"\"\n",
    "        self.data = pd.read_csv(csv_file)\n",
    "        self.transform = transform\n",
    "        self.dir_path = os.path.dirname(csv_file)  # Directory of the CSV file\n",
    "\n",
    "    def __len__(self):\n",
    "        \"\"\"Returns the number of samples in the dataset.\"\"\"\n",
    "        return len(self.data)\n",
    "\n",
    "    def __getitem__(self, idx,):\n",
    "        \"\"\"\n",
    "        Retrieves an image and its labels by index.\n",
    "\n",
    "        Args:\n",
    "            idx (int): Index of the sample to retrieve.\n",
    "\n",
    "        Returns:\n",
    "            tuple: A tuple (image, labels) where:\n",
    "                image (PIL.Image): The image.\n",
    "                labels (torch.Tensor): Tensor containing quality and authenticity scores.\n",
    "        \"\"\"\n",
    "        if torch.is_tensor(idx):\n",
    "            idx = idx.tolist()\n",
    "\n",
    "        # TODO: to be fixed, right now is folder dependent\n",
    "        img_name = self.data.iloc[idx, 3].replace(\"./\", \"../../\")\n",
    "        image = Image.open(img_name).convert('RGB')\n",
    "        authenticity = self.data.iloc[idx, 1]  # Authenticity column\n",
    "        labels = torch.tensor([authenticity], dtype=torch.float)\n",
    "\n",
    "\n",
    "        if self.transform:\n",
    "            image = self.transform(image)\n",
    "\n",
    "        return image, labels\n"
   ]
  },
  {
   "cell_type": "markdown",
   "metadata": {},
   "source": [
    "# Definitions of the models"
   ]
  },
  {
   "cell_type": "code",
   "execution_count": 3,
   "metadata": {},
   "outputs": [],
   "source": [
    "class AuthenticityPredictor(nn.Module):\n",
    "    def __init__(self, freeze_backbone=True):\n",
    "        super().__init__()\n",
    "        # Load pre-trained ResNet-152 instead of VGG16\n",
    "        resnet = resnet152(weights=ResNet152_Weights.DEFAULT)\n",
    "        \n",
    "        # Freeze backbone if requested\n",
    "        if freeze_backbone:\n",
    "            for param in resnet.parameters():\n",
    "                param.requires_grad = False\n",
    "                \n",
    "        # Store the backbone (excluding the final fc layer)\n",
    "        self.features = nn.Sequential(*list(resnet.children())[:-2])\n",
    "        self.avgpool = resnet.avgpool\n",
    "        \n",
    "        self.regression_head = nn.Sequential(\n",
    "                nn.Linear(2048, 512),\n",
    "                nn.ReLU(),\n",
    "                nn.Dropout(0.5),  # Reduced dropout ratio\n",
    "                nn.Linear(512, 128),\n",
    "                nn.ReLU(),\n",
    "                nn.Dropout(0.5),\n",
    "                nn.Linear(128, 1)\n",
    "            )    \n",
    "        \n",
    "    def forward(self, x):\n",
    "        x = self.features(x)\n",
    "        x = self.avgpool(x)\n",
    "        x = torch.flatten(x, 1)\n",
    "        predictions = self.regression_head(x)\n",
    "        return predictions, x  # Return predictions and features"
   ]
  },
  {
   "cell_type": "markdown",
   "metadata": {},
   "source": [
    "# Setup "
   ]
  },
  {
   "cell_type": "code",
   "execution_count": 4,
   "metadata": {},
   "outputs": [],
   "source": [
    "device = torch.device('cuda' if torch.cuda.is_available() else 'cpu')\n",
    "\n",
    "# Data transformations for the ImageNet dataset\n",
    "data_transforms = transforms.Compose([\n",
    "    transforms.Resize(256),\n",
    "    transforms.CenterCrop(224),\n",
    "    transforms.ToTensor(),\n",
    "    transforms.Normalize([0.485, 0.456, 0.406], [0.229, 0.224, 0.225])\n",
    "])\n",
    "\n",
    "annotations_file = '../../Dataset/AIGCIQA2023/real_images_annotations.csv'\n",
    "\n",
    "# Create the dataset\n",
    "dataset = ImageAuthenticityDataset(csv_file=annotations_file, transform=data_transforms)\n",
    "\n",
    "# Set random seeds for reproducibility\n",
    "torch.manual_seed(42)\n",
    "torch.cuda.manual_seed(42)\n",
    "np.random.seed(42)\n",
    "\n",
    "# Split the dataset into training, validation, and test sets\n",
    "train_size = int(0.7 * len(dataset))\n",
    "val_size = int(0.2 * len(dataset))\n",
    "test_size = len(dataset) - train_size - val_size\n",
    "train_dataset, val_dataset, test_dataset = random_split(dataset, [train_size, val_size, test_size])\n",
    "\n",
    "\n",
    "# Create data loaders\n",
    "BATCH_SIZE = 1 # Set to 1 for handling individual images\n",
    "\n",
    "\n",
    "train_dataloader = DataLoader(train_dataset, batch_size=BATCH_SIZE, shuffle=True, num_workers=0)\n",
    "val_dataloader = DataLoader(val_dataset, batch_size=BATCH_SIZE, shuffle=False, num_workers=0)\n",
    "test_dataloader = DataLoader(test_dataset, batch_size=BATCH_SIZE, shuffle=False, num_workers=0)\n",
    "\n",
    "\n",
    "# Create a dictionary containing the data loaders\n",
    "dataloaders = {\n",
    "    'train': train_dataloader,\n",
    "    'val': val_dataloader,\n",
    "    'test': test_dataloader\n",
    "}\n"
   ]
  },
  {
   "cell_type": "markdown",
   "metadata": {},
   "source": [
    "## Compute for each image the importace scores of lastConv layer's channels"
   ]
  },
  {
   "cell_type": "code",
   "execution_count": 5,
   "metadata": {},
   "outputs": [],
   "source": [
    "import tqdm\n",
    "from tqdm.notebook import tqdm  # Use tqdm.notebook for Jupyter notebooks\n",
    "\n",
    "def compute_obj_x_obj_feature_map_importance(model, dataloader, device, layer_name):\n",
    "    \"\"\"Computes the importance of each feature map in a convolution layer by measuring the change in \n",
    "    predictions when the feature map is zeroed out, calculated per object.\n",
    "    \n",
    "    Args:\n",
    "        model (nn.Module): The trained model\n",
    "        dataloader (DataLoader): Dataloader containing the images (with batch_size=1)\n",
    "        device (str): Device to run computation on ('cuda' or 'cpu')\n",
    "        layer_name (str): Name of the layer to analyze\n",
    "        \n",
    "    Returns:\n",
    "        numpy.ndarray: An array where each element is a numpy array of channel importance scores\n",
    "                      for the corresponding image. Shape: [num_images]\n",
    "    \"\"\"\n",
    "    # Check if importance scores are already computed\n",
    "    if os.path.exists('Ranking_arrays/Dual_scores_obj_x_obj_authenticity_importance_scores.npy'):\n",
    "        print(\"Per-object importance scores already computed, loading from file\")\n",
    "        return np.load('Ranking_arrays/Dual_scores_obj_x_obj_authenticity_importance_scores.npy', allow_pickle=True)\n",
    "    \n",
    "    model.eval()\n",
    "    model.to(device)\n",
    "    named_modules = list(model.named_modules())\n",
    "    layer = None\n",
    "    \n",
    "    for name, module in named_modules:\n",
    "        if name == layer_name:\n",
    "            layer = module\n",
    "            break\n",
    "    \n",
    "    if layer is None:\n",
    "        raise ValueError(f\"Layer {layer_name} not found in model\")\n",
    "    \n",
    "    num_channels = layer.out_channels\n",
    "    \n",
    "    # Make sure batch_size=1 in the dataloader\n",
    "    if dataloader.batch_size != 1:\n",
    "        print(\"Warning: Dataloader batch size should be 1 for per-object importance computation\")\n",
    "    \n",
    "    # Create a directory for saving results if it doesn't exist\n",
    "    os.makedirs('Ranking_arrays', exist_ok=True)\n",
    "    \n",
    "    # Initialize array to store importance scores arrays for each image\n",
    "    num_images = len(dataloader)\n",
    "    importance_array = np.empty(num_images, dtype=object)  # Changed to object type for storing arrays\n",
    "    \n",
    "    # Process each image individually with a progress bar\n",
    "    for img_idx, (inputs, labels) in enumerate(tqdm(dataloader, desc=\"Processing images\")):\n",
    "        inputs = inputs.to(device)\n",
    "        labels = labels.to(device)\n",
    "        \n",
    "        # Get baseline prediction\n",
    "        with torch.no_grad():\n",
    "            baseline_outputs, _ = model(inputs)\n",
    "            y_true = labels\n",
    "            y_pred_tensor = baseline_outputs\n",
    "            y_pred = y_pred_tensor.item()  # Get scalar value\n",
    "            residual_error = torch.abs(y_pred_tensor - y_true).item()  # Get scalar value\n",
    "        \n",
    "        # Initialize array for this image's channel importance scores\n",
    "        channel_residual_scores = np.zeros(num_channels)\n",
    "        pred_residual_scores = np.zeros(num_channels)\n",
    "        \n",
    "        # Compute importance for each feature map for this image with inner progress bar\n",
    "        for channel_idx in tqdm(range(num_channels), desc=f\"Channels for image {img_idx}\", leave=False):\n",
    "            # Create a backup of the weights and bias\n",
    "            backup_weights = layer.weight[channel_idx, ...].clone()\n",
    "            backup_bias = layer.bias[channel_idx].clone() if layer.bias is not None else None\n",
    "            \n",
    "            # Zero out the channel_idx-th output channel\n",
    "            with torch.no_grad():\n",
    "                layer.weight[channel_idx, ...] = 0\n",
    "                if layer.bias is not None:\n",
    "                    layer.bias[channel_idx] = 0\n",
    "                \n",
    "            # Get prediction with the pruned feature map\n",
    "            with torch.no_grad():\n",
    "                pruned_outputs, _ = model(inputs)\n",
    "                y_pred_pruned_tensor = pruned_outputs\n",
    "                y_pred_pruned = y_pred_pruned_tensor.item()\n",
    "                residual_error_pruned = torch.abs(y_pred_pruned_tensor - y_true).item()\n",
    "            \n",
    "            # Compute scores\n",
    "            delta_residual = residual_error_pruned - residual_error  # how prediction error changes when we remove a feature map\n",
    "            delta_prediction = y_pred_pruned - y_pred  # how the predicted realism score changes when we remove the feature map\n",
    "            \n",
    "            channel_residual_scores[channel_idx] = delta_residual\n",
    "            pred_residual_scores[channel_idx] = delta_prediction\n",
    "            \n",
    "            # Restore weights and bias\n",
    "            with torch.no_grad():\n",
    "                layer.weight[channel_idx, ...] = backup_weights\n",
    "                if layer.bias is not None:\n",
    "                    layer.bias[channel_idx] = backup_bias\n",
    "        \n",
    "        # Store the channel scores array for this image\n",
    "        importance_array[img_idx] = np.array([channel_residual_scores, pred_residual_scores])\n",
    "        \n",
    "        # Log detailed info about current image's processing\n",
    "        print(f\"\\nImage {img_idx}: True Value: {labels.item():.4f}, Prediction: {y_pred:.4f}, Error: {residual_error:.4f}\")\n",
    "    \n",
    "    # Save results as a numpy array\n",
    "    np.save('Ranking_arrays/Dual_scores_obj_x_obj_authenticity_importance_scores.npy', importance_array)\n",
    "    print(f\"Saved importance scores for {num_images} images to 'Ranking_arrays/Dual_scores_obj_x_obj_authenticity_importance_scores.npy'\")\n",
    "    \n",
    "    # Return the array of arrays\n",
    "    return importance_array"
   ]
  },
  {
   "cell_type": "code",
   "execution_count": null,
   "metadata": {},
   "outputs": [
    {
     "name": "stderr",
     "output_type": "stream",
     "text": [
      "/tmp/ipykernel_2774399/3309089054.py:8: FutureWarning: You are using `torch.load` with `weights_only=False` (the current default value), which uses the default pickle module implicitly. It is possible to construct malicious pickle data which will execute arbitrary code during unpickling (See https://github.com/pytorch/pytorch/blob/main/SECURITY.md#untrusted-models for more details). In a future release, the default value for `weights_only` will be flipped to `True`. This limits the functions that could be executed during unpickling. Arbitrary objects will no longer be allowed to be loaded via this mode unless they are explicitly allowlisted by the user via `torch.serialization.add_safe_globals`. We recommend you start setting `weights_only=True` for any use case where you don't have full control of the loaded file. Please open an issue on GitHub for any issues related to this experimental feature.\n",
      "  model.load_state_dict(torch.load('Weights/ResNet-152_real_authenticity_finetuned.pth'))\n"
     ]
    },
    {
     "data": {
      "application/vnd.jupyter.widget-view+json": {
       "model_id": "b08c069a8ce244e7863e2aa89426a743",
       "version_major": 2,
       "version_minor": 0
      },
      "text/plain": [
       "Processing images:   0%|          | 0/138 [00:00<?, ?it/s]"
      ]
     },
     "metadata": {},
     "output_type": "display_data"
    },
    {
     "data": {
      "application/vnd.jupyter.widget-view+json": {
       "model_id": "4e5fb406878c433ebe15b4a50e315561",
       "version_major": 2,
       "version_minor": 0
      },
      "text/plain": [
       "Channels for image 0:   0%|          | 0/2048 [00:00<?, ?it/s]"
      ]
     },
     "metadata": {},
     "output_type": "display_data"
    },
    {
     "name": "stdout",
     "output_type": "stream",
     "text": [
      "\n",
      "Image 0: True Value: 36.9786, Prediction: 34.6931, Error: 2.2855\n"
     ]
    },
    {
     "data": {
      "application/vnd.jupyter.widget-view+json": {
       "model_id": "7c029f0885434fb0adc42cf88ff23b35",
       "version_major": 2,
       "version_minor": 0
      },
      "text/plain": [
       "Channels for image 1:   0%|          | 0/2048 [00:00<?, ?it/s]"
      ]
     },
     "metadata": {},
     "output_type": "display_data"
    },
    {
     "name": "stdout",
     "output_type": "stream",
     "text": [
      "\n",
      "Image 1: True Value: 48.4945, Prediction: 46.9550, Error: 1.5394\n"
     ]
    },
    {
     "data": {
      "application/vnd.jupyter.widget-view+json": {
       "model_id": "990a013634054c39ab96f742faf492d2",
       "version_major": 2,
       "version_minor": 0
      },
      "text/plain": [
       "Channels for image 2:   0%|          | 0/2048 [00:00<?, ?it/s]"
      ]
     },
     "metadata": {},
     "output_type": "display_data"
    },
    {
     "name": "stdout",
     "output_type": "stream",
     "text": [
      "\n",
      "Image 2: True Value: 40.4445, Prediction: 46.6971, Error: 6.2526\n"
     ]
    },
    {
     "data": {
      "application/vnd.jupyter.widget-view+json": {
       "model_id": "183b9883b9a9449c8b3a3452572a0ea4",
       "version_major": 2,
       "version_minor": 0
      },
      "text/plain": [
       "Channels for image 3:   0%|          | 0/2048 [00:00<?, ?it/s]"
      ]
     },
     "metadata": {},
     "output_type": "display_data"
    },
    {
     "name": "stdout",
     "output_type": "stream",
     "text": [
      "\n",
      "Image 3: True Value: 56.5779, Prediction: 34.3024, Error: 22.2755\n"
     ]
    },
    {
     "data": {
      "application/vnd.jupyter.widget-view+json": {
       "model_id": "4a4f03eca4a84ed79821a3fc981e239e",
       "version_major": 2,
       "version_minor": 0
      },
      "text/plain": [
       "Channels for image 4:   0%|          | 0/2048 [00:00<?, ?it/s]"
      ]
     },
     "metadata": {},
     "output_type": "display_data"
    },
    {
     "name": "stdout",
     "output_type": "stream",
     "text": [
      "\n",
      "Image 4: True Value: 52.3780, Prediction: 48.8437, Error: 3.5343\n"
     ]
    },
    {
     "data": {
      "application/vnd.jupyter.widget-view+json": {
       "model_id": "dc11ab36f3904ea980e559eac7e01c4d",
       "version_major": 2,
       "version_minor": 0
      },
      "text/plain": [
       "Channels for image 5:   0%|          | 0/2048 [00:00<?, ?it/s]"
      ]
     },
     "metadata": {},
     "output_type": "display_data"
    },
    {
     "name": "stdout",
     "output_type": "stream",
     "text": [
      "\n",
      "Image 5: True Value: 60.5436, Prediction: 59.0327, Error: 1.5109\n"
     ]
    },
    {
     "data": {
      "application/vnd.jupyter.widget-view+json": {
       "model_id": "2739b7b047ba4a51bf10ab0f1ff15f61",
       "version_major": 2,
       "version_minor": 0
      },
      "text/plain": [
       "Channels for image 6:   0%|          | 0/2048 [00:00<?, ?it/s]"
      ]
     },
     "metadata": {},
     "output_type": "display_data"
    },
    {
     "name": "stdout",
     "output_type": "stream",
     "text": [
      "\n",
      "Image 6: True Value: 40.8427, Prediction: 52.2043, Error: 11.3616\n"
     ]
    },
    {
     "data": {
      "application/vnd.jupyter.widget-view+json": {
       "model_id": "a4c1d1d5c03a4f1595e31d9171c8e842",
       "version_major": 2,
       "version_minor": 0
      },
      "text/plain": [
       "Channels for image 7:   0%|          | 0/2048 [00:00<?, ?it/s]"
      ]
     },
     "metadata": {},
     "output_type": "display_data"
    },
    {
     "name": "stdout",
     "output_type": "stream",
     "text": [
      "\n",
      "Image 7: True Value: 56.4381, Prediction: 50.3716, Error: 6.0664\n"
     ]
    },
    {
     "data": {
      "application/vnd.jupyter.widget-view+json": {
       "model_id": "13c18d88f7b14217be34f8ca128633f4",
       "version_major": 2,
       "version_minor": 0
      },
      "text/plain": [
       "Channels for image 8:   0%|          | 0/2048 [00:00<?, ?it/s]"
      ]
     },
     "metadata": {},
     "output_type": "display_data"
    },
    {
     "name": "stdout",
     "output_type": "stream",
     "text": [
      "\n",
      "Image 8: True Value: 58.8600, Prediction: 47.2992, Error: 11.5607\n"
     ]
    },
    {
     "data": {
      "application/vnd.jupyter.widget-view+json": {
       "model_id": "e5619e638d1646ff9ae13e5faf4e0012",
       "version_major": 2,
       "version_minor": 0
      },
      "text/plain": [
       "Channels for image 9:   0%|          | 0/2048 [00:00<?, ?it/s]"
      ]
     },
     "metadata": {},
     "output_type": "display_data"
    },
    {
     "name": "stdout",
     "output_type": "stream",
     "text": [
      "\n",
      "Image 9: True Value: 41.6964, Prediction: 45.8459, Error: 4.1495\n"
     ]
    },
    {
     "data": {
      "application/vnd.jupyter.widget-view+json": {
       "model_id": "91b7e8ac5a804fcc9a62569d62b92363",
       "version_major": 2,
       "version_minor": 0
      },
      "text/plain": [
       "Channels for image 10:   0%|          | 0/2048 [00:00<?, ?it/s]"
      ]
     },
     "metadata": {},
     "output_type": "display_data"
    },
    {
     "name": "stdout",
     "output_type": "stream",
     "text": [
      "\n",
      "Image 10: True Value: 66.9894, Prediction: 58.5577, Error: 8.4317\n"
     ]
    },
    {
     "data": {
      "application/vnd.jupyter.widget-view+json": {
       "model_id": "cc4c5959ed4d492c866319677e452866",
       "version_major": 2,
       "version_minor": 0
      },
      "text/plain": [
       "Channels for image 11:   0%|          | 0/2048 [00:00<?, ?it/s]"
      ]
     },
     "metadata": {},
     "output_type": "display_data"
    },
    {
     "name": "stdout",
     "output_type": "stream",
     "text": [
      "\n",
      "Image 11: True Value: 54.9028, Prediction: 55.7571, Error: 0.8543\n"
     ]
    },
    {
     "data": {
      "application/vnd.jupyter.widget-view+json": {
       "model_id": "b5172ec4a0fc488da151395bfc3c47e5",
       "version_major": 2,
       "version_minor": 0
      },
      "text/plain": [
       "Channels for image 12:   0%|          | 0/2048 [00:00<?, ?it/s]"
      ]
     },
     "metadata": {},
     "output_type": "display_data"
    },
    {
     "name": "stdout",
     "output_type": "stream",
     "text": [
      "\n",
      "Image 12: True Value: 57.5827, Prediction: 64.8112, Error: 7.2286\n"
     ]
    },
    {
     "data": {
      "application/vnd.jupyter.widget-view+json": {
       "model_id": "79fc5a3e4e4546c29525debbe38f1d54",
       "version_major": 2,
       "version_minor": 0
      },
      "text/plain": [
       "Channels for image 13:   0%|          | 0/2048 [00:00<?, ?it/s]"
      ]
     },
     "metadata": {},
     "output_type": "display_data"
    },
    {
     "name": "stdout",
     "output_type": "stream",
     "text": [
      "\n",
      "Image 13: True Value: 48.0481, Prediction: 43.9636, Error: 4.0845\n"
     ]
    },
    {
     "data": {
      "application/vnd.jupyter.widget-view+json": {
       "model_id": "1b3b0716b7cb4bdaa4d0036da791f8db",
       "version_major": 2,
       "version_minor": 0
      },
      "text/plain": [
       "Channels for image 14:   0%|          | 0/2048 [00:00<?, ?it/s]"
      ]
     },
     "metadata": {},
     "output_type": "display_data"
    },
    {
     "name": "stdout",
     "output_type": "stream",
     "text": [
      "\n",
      "Image 14: True Value: 47.2465, Prediction: 49.7018, Error: 2.4552\n"
     ]
    },
    {
     "data": {
      "application/vnd.jupyter.widget-view+json": {
       "model_id": "6a874452ade44cca872c3ba2dd7a8fd1",
       "version_major": 2,
       "version_minor": 0
      },
      "text/plain": [
       "Channels for image 15:   0%|          | 0/2048 [00:00<?, ?it/s]"
      ]
     },
     "metadata": {},
     "output_type": "display_data"
    },
    {
     "name": "stdout",
     "output_type": "stream",
     "text": [
      "\n",
      "Image 15: True Value: 57.3166, Prediction: 63.8491, Error: 6.5325\n"
     ]
    },
    {
     "data": {
      "application/vnd.jupyter.widget-view+json": {
       "model_id": "2248208e8d8d409fa21c08f191c4e076",
       "version_major": 2,
       "version_minor": 0
      },
      "text/plain": [
       "Channels for image 16:   0%|          | 0/2048 [00:00<?, ?it/s]"
      ]
     },
     "metadata": {},
     "output_type": "display_data"
    },
    {
     "name": "stdout",
     "output_type": "stream",
     "text": [
      "\n",
      "Image 16: True Value: 63.2808, Prediction: 56.1653, Error: 7.1156\n"
     ]
    },
    {
     "data": {
      "application/vnd.jupyter.widget-view+json": {
       "model_id": "7c4fd27f393046a99d6c84f4dc0d4f67",
       "version_major": 2,
       "version_minor": 0
      },
      "text/plain": [
       "Channels for image 17:   0%|          | 0/2048 [00:00<?, ?it/s]"
      ]
     },
     "metadata": {},
     "output_type": "display_data"
    },
    {
     "name": "stdout",
     "output_type": "stream",
     "text": [
      "\n",
      "Image 17: True Value: 43.0211, Prediction: 44.7512, Error: 1.7301\n"
     ]
    },
    {
     "data": {
      "application/vnd.jupyter.widget-view+json": {
       "model_id": "3c0cf664b6254262836eb31006356a0b",
       "version_major": 2,
       "version_minor": 0
      },
      "text/plain": [
       "Channels for image 18:   0%|          | 0/2048 [00:00<?, ?it/s]"
      ]
     },
     "metadata": {},
     "output_type": "display_data"
    },
    {
     "name": "stdout",
     "output_type": "stream",
     "text": [
      "\n",
      "Image 18: True Value: 51.0340, Prediction: 52.0783, Error: 1.0443\n"
     ]
    },
    {
     "data": {
      "application/vnd.jupyter.widget-view+json": {
       "model_id": "73158953674348ad9c7785aac8c03306",
       "version_major": 2,
       "version_minor": 0
      },
      "text/plain": [
       "Channels for image 19:   0%|          | 0/2048 [00:00<?, ?it/s]"
      ]
     },
     "metadata": {},
     "output_type": "display_data"
    },
    {
     "name": "stdout",
     "output_type": "stream",
     "text": [
      "\n",
      "Image 19: True Value: 48.3244, Prediction: 57.7779, Error: 9.4535\n"
     ]
    },
    {
     "data": {
      "application/vnd.jupyter.widget-view+json": {
       "model_id": "5afac90652164afaaf77d1f8641bed66",
       "version_major": 2,
       "version_minor": 0
      },
      "text/plain": [
       "Channels for image 20:   0%|          | 0/2048 [00:00<?, ?it/s]"
      ]
     },
     "metadata": {},
     "output_type": "display_data"
    },
    {
     "name": "stdout",
     "output_type": "stream",
     "text": [
      "\n",
      "Image 20: True Value: 60.1111, Prediction: 49.0136, Error: 11.0975\n"
     ]
    },
    {
     "data": {
      "application/vnd.jupyter.widget-view+json": {
       "model_id": "f15c0695940140dbb271c46d1213d550",
       "version_major": 2,
       "version_minor": 0
      },
      "text/plain": [
       "Channels for image 21:   0%|          | 0/2048 [00:00<?, ?it/s]"
      ]
     },
     "metadata": {},
     "output_type": "display_data"
    },
    {
     "name": "stdout",
     "output_type": "stream",
     "text": [
      "\n",
      "Image 21: True Value: 50.6239, Prediction: 45.1215, Error: 5.5024\n"
     ]
    },
    {
     "data": {
      "application/vnd.jupyter.widget-view+json": {
       "model_id": "fc76bd17857a4df5b0b9b09a9f9d1ceb",
       "version_major": 2,
       "version_minor": 0
      },
      "text/plain": [
       "Channels for image 22:   0%|          | 0/2048 [00:00<?, ?it/s]"
      ]
     },
     "metadata": {},
     "output_type": "display_data"
    },
    {
     "name": "stdout",
     "output_type": "stream",
     "text": [
      "\n",
      "Image 22: True Value: 54.7512, Prediction: 54.9873, Error: 0.2361\n"
     ]
    },
    {
     "data": {
      "application/vnd.jupyter.widget-view+json": {
       "model_id": "0535241c8be3477c816c5f9bfb869dad",
       "version_major": 2,
       "version_minor": 0
      },
      "text/plain": [
       "Channels for image 23:   0%|          | 0/2048 [00:00<?, ?it/s]"
      ]
     },
     "metadata": {},
     "output_type": "display_data"
    },
    {
     "name": "stdout",
     "output_type": "stream",
     "text": [
      "\n",
      "Image 23: True Value: 54.3273, Prediction: 49.2146, Error: 5.1128\n"
     ]
    },
    {
     "data": {
      "application/vnd.jupyter.widget-view+json": {
       "model_id": "f75d20fc6d4b4e9a83ce7129f388bc4b",
       "version_major": 2,
       "version_minor": 0
      },
      "text/plain": [
       "Channels for image 24:   0%|          | 0/2048 [00:00<?, ?it/s]"
      ]
     },
     "metadata": {},
     "output_type": "display_data"
    },
    {
     "name": "stdout",
     "output_type": "stream",
     "text": [
      "\n",
      "Image 24: True Value: 51.1667, Prediction: 44.1720, Error: 6.9947\n"
     ]
    },
    {
     "data": {
      "application/vnd.jupyter.widget-view+json": {
       "model_id": "f8df44b80fab456282024acb02683118",
       "version_major": 2,
       "version_minor": 0
      },
      "text/plain": [
       "Channels for image 25:   0%|          | 0/2048 [00:00<?, ?it/s]"
      ]
     },
     "metadata": {},
     "output_type": "display_data"
    },
    {
     "name": "stdout",
     "output_type": "stream",
     "text": [
      "\n",
      "Image 25: True Value: 43.1158, Prediction: 46.3399, Error: 3.2241\n"
     ]
    },
    {
     "data": {
      "application/vnd.jupyter.widget-view+json": {
       "model_id": "7e4bf1ad8ff34249b6cee2b2cf1e00d6",
       "version_major": 2,
       "version_minor": 0
      },
      "text/plain": [
       "Channels for image 26:   0%|          | 0/2048 [00:00<?, ?it/s]"
      ]
     },
     "metadata": {},
     "output_type": "display_data"
    },
    {
     "name": "stdout",
     "output_type": "stream",
     "text": [
      "\n",
      "Image 26: True Value: 54.7313, Prediction: 52.2035, Error: 2.5278\n"
     ]
    },
    {
     "data": {
      "application/vnd.jupyter.widget-view+json": {
       "model_id": "43d7bce9e066412abf4c2f1235d7d500",
       "version_major": 2,
       "version_minor": 0
      },
      "text/plain": [
       "Channels for image 27:   0%|          | 0/2048 [00:00<?, ?it/s]"
      ]
     },
     "metadata": {},
     "output_type": "display_data"
    },
    {
     "name": "stdout",
     "output_type": "stream",
     "text": [
      "\n",
      "Image 27: True Value: 55.6878, Prediction: 59.4336, Error: 3.7458\n"
     ]
    },
    {
     "data": {
      "application/vnd.jupyter.widget-view+json": {
       "model_id": "3ef792d6c143433c968b7448ed37582e",
       "version_major": 2,
       "version_minor": 0
      },
      "text/plain": [
       "Channels for image 28:   0%|          | 0/2048 [00:00<?, ?it/s]"
      ]
     },
     "metadata": {},
     "output_type": "display_data"
    },
    {
     "name": "stdout",
     "output_type": "stream",
     "text": [
      "\n",
      "Image 28: True Value: 61.7272, Prediction: 62.4398, Error: 0.7126\n"
     ]
    },
    {
     "data": {
      "application/vnd.jupyter.widget-view+json": {
       "model_id": "7bc46799242141a4b1018477c32c7ddd",
       "version_major": 2,
       "version_minor": 0
      },
      "text/plain": [
       "Channels for image 29:   0%|          | 0/2048 [00:00<?, ?it/s]"
      ]
     },
     "metadata": {},
     "output_type": "display_data"
    },
    {
     "name": "stdout",
     "output_type": "stream",
     "text": [
      "\n",
      "Image 29: True Value: 41.0169, Prediction: 53.5589, Error: 12.5420\n"
     ]
    },
    {
     "data": {
      "application/vnd.jupyter.widget-view+json": {
       "model_id": "7f5e41ca00b24977ad5db1cefe40fab2",
       "version_major": 2,
       "version_minor": 0
      },
      "text/plain": [
       "Channels for image 30:   0%|          | 0/2048 [00:00<?, ?it/s]"
      ]
     },
     "metadata": {},
     "output_type": "display_data"
    },
    {
     "name": "stdout",
     "output_type": "stream",
     "text": [
      "\n",
      "Image 30: True Value: 32.8106, Prediction: 39.8355, Error: 7.0249\n"
     ]
    },
    {
     "data": {
      "application/vnd.jupyter.widget-view+json": {
       "model_id": "192c84e842f64c8ab63dd2b945de6185",
       "version_major": 2,
       "version_minor": 0
      },
      "text/plain": [
       "Channels for image 31:   0%|          | 0/2048 [00:00<?, ?it/s]"
      ]
     },
     "metadata": {},
     "output_type": "display_data"
    },
    {
     "name": "stdout",
     "output_type": "stream",
     "text": [
      "\n",
      "Image 31: True Value: 64.0991, Prediction: 50.1398, Error: 13.9594\n"
     ]
    },
    {
     "data": {
      "application/vnd.jupyter.widget-view+json": {
       "model_id": "4a646da6b49543e2aed174954270f792",
       "version_major": 2,
       "version_minor": 0
      },
      "text/plain": [
       "Channels for image 32:   0%|          | 0/2048 [00:00<?, ?it/s]"
      ]
     },
     "metadata": {},
     "output_type": "display_data"
    },
    {
     "name": "stdout",
     "output_type": "stream",
     "text": [
      "\n",
      "Image 32: True Value: 47.9370, Prediction: 54.7296, Error: 6.7926\n"
     ]
    },
    {
     "data": {
      "application/vnd.jupyter.widget-view+json": {
       "model_id": "8032f12fc4f94f84990d1603d1bbf2b6",
       "version_major": 2,
       "version_minor": 0
      },
      "text/plain": [
       "Channels for image 33:   0%|          | 0/2048 [00:00<?, ?it/s]"
      ]
     },
     "metadata": {},
     "output_type": "display_data"
    },
    {
     "name": "stdout",
     "output_type": "stream",
     "text": [
      "\n",
      "Image 33: True Value: 51.3419, Prediction: 46.8908, Error: 4.4511\n"
     ]
    },
    {
     "data": {
      "application/vnd.jupyter.widget-view+json": {
       "model_id": "751441ecbe6744a6a3b42890fbe5b1e8",
       "version_major": 2,
       "version_minor": 0
      },
      "text/plain": [
       "Channels for image 34:   0%|          | 0/2048 [00:00<?, ?it/s]"
      ]
     },
     "metadata": {},
     "output_type": "display_data"
    },
    {
     "name": "stdout",
     "output_type": "stream",
     "text": [
      "\n",
      "Image 34: True Value: 50.7959, Prediction: 57.8199, Error: 7.0240\n"
     ]
    },
    {
     "data": {
      "application/vnd.jupyter.widget-view+json": {
       "model_id": "6d093ab1700343cfb647cc5206af0432",
       "version_major": 2,
       "version_minor": 0
      },
      "text/plain": [
       "Channels for image 35:   0%|          | 0/2048 [00:00<?, ?it/s]"
      ]
     },
     "metadata": {},
     "output_type": "display_data"
    },
    {
     "name": "stdout",
     "output_type": "stream",
     "text": [
      "\n",
      "Image 35: True Value: 70.2623, Prediction: 49.3786, Error: 20.8837\n"
     ]
    },
    {
     "data": {
      "application/vnd.jupyter.widget-view+json": {
       "model_id": "d6bf89a2930b49fa818d2682bdd2f10d",
       "version_major": 2,
       "version_minor": 0
      },
      "text/plain": [
       "Channels for image 36:   0%|          | 0/2048 [00:00<?, ?it/s]"
      ]
     },
     "metadata": {},
     "output_type": "display_data"
    },
    {
     "name": "stdout",
     "output_type": "stream",
     "text": [
      "\n",
      "Image 36: True Value: 49.5747, Prediction: 41.6334, Error: 7.9412\n"
     ]
    },
    {
     "data": {
      "application/vnd.jupyter.widget-view+json": {
       "model_id": "0bdfbd7d229d42ec982ba8de2db82295",
       "version_major": 2,
       "version_minor": 0
      },
      "text/plain": [
       "Channels for image 37:   0%|          | 0/2048 [00:00<?, ?it/s]"
      ]
     },
     "metadata": {},
     "output_type": "display_data"
    },
    {
     "name": "stdout",
     "output_type": "stream",
     "text": [
      "\n",
      "Image 37: True Value: 55.9765, Prediction: 67.0676, Error: 11.0911\n"
     ]
    },
    {
     "data": {
      "application/vnd.jupyter.widget-view+json": {
       "model_id": "c0de0750c7b346ca908754066b15935c",
       "version_major": 2,
       "version_minor": 0
      },
      "text/plain": [
       "Channels for image 38:   0%|          | 0/2048 [00:00<?, ?it/s]"
      ]
     },
     "metadata": {},
     "output_type": "display_data"
    },
    {
     "name": "stdout",
     "output_type": "stream",
     "text": [
      "\n",
      "Image 38: True Value: 36.3101, Prediction: 39.6195, Error: 3.3093\n"
     ]
    },
    {
     "data": {
      "application/vnd.jupyter.widget-view+json": {
       "model_id": "9e5a3ec2d25a432cb24d77a06d446d36",
       "version_major": 2,
       "version_minor": 0
      },
      "text/plain": [
       "Channels for image 39:   0%|          | 0/2048 [00:00<?, ?it/s]"
      ]
     },
     "metadata": {},
     "output_type": "display_data"
    },
    {
     "name": "stdout",
     "output_type": "stream",
     "text": [
      "\n",
      "Image 39: True Value: 44.3582, Prediction: 64.1757, Error: 19.8175\n"
     ]
    },
    {
     "data": {
      "application/vnd.jupyter.widget-view+json": {
       "model_id": "30af9d54d6594796907e98726d6f99f5",
       "version_major": 2,
       "version_minor": 0
      },
      "text/plain": [
       "Channels for image 40:   0%|          | 0/2048 [00:00<?, ?it/s]"
      ]
     },
     "metadata": {},
     "output_type": "display_data"
    },
    {
     "name": "stdout",
     "output_type": "stream",
     "text": [
      "\n",
      "Image 40: True Value: 56.8402, Prediction: 47.7042, Error: 9.1360\n"
     ]
    },
    {
     "data": {
      "application/vnd.jupyter.widget-view+json": {
       "model_id": "09113cae984446a98244fcf7c0c7cbac",
       "version_major": 2,
       "version_minor": 0
      },
      "text/plain": [
       "Channels for image 41:   0%|          | 0/2048 [00:00<?, ?it/s]"
      ]
     },
     "metadata": {},
     "output_type": "display_data"
    },
    {
     "name": "stdout",
     "output_type": "stream",
     "text": [
      "\n",
      "Image 41: True Value: 51.0633, Prediction: 49.5033, Error: 1.5601\n"
     ]
    },
    {
     "data": {
      "application/vnd.jupyter.widget-view+json": {
       "model_id": "abf3d7b6f8834ad3a71a237fd1679bc7",
       "version_major": 2,
       "version_minor": 0
      },
      "text/plain": [
       "Channels for image 42:   0%|          | 0/2048 [00:00<?, ?it/s]"
      ]
     },
     "metadata": {},
     "output_type": "display_data"
    },
    {
     "name": "stdout",
     "output_type": "stream",
     "text": [
      "\n",
      "Image 42: True Value: 65.6936, Prediction: 53.4806, Error: 12.2130\n"
     ]
    },
    {
     "data": {
      "application/vnd.jupyter.widget-view+json": {
       "model_id": "ec649b51571f4920a2d056d11ab53f8b",
       "version_major": 2,
       "version_minor": 0
      },
      "text/plain": [
       "Channels for image 43:   0%|          | 0/2048 [00:00<?, ?it/s]"
      ]
     },
     "metadata": {},
     "output_type": "display_data"
    },
    {
     "name": "stdout",
     "output_type": "stream",
     "text": [
      "\n",
      "Image 43: True Value: 47.1714, Prediction: 41.6692, Error: 5.5022\n"
     ]
    },
    {
     "data": {
      "application/vnd.jupyter.widget-view+json": {
       "model_id": "e82ff3ab08f74954b0d711048bb61a41",
       "version_major": 2,
       "version_minor": 0
      },
      "text/plain": [
       "Channels for image 44:   0%|          | 0/2048 [00:00<?, ?it/s]"
      ]
     },
     "metadata": {},
     "output_type": "display_data"
    },
    {
     "name": "stdout",
     "output_type": "stream",
     "text": [
      "\n",
      "Image 44: True Value: 58.5825, Prediction: 36.2352, Error: 22.3472\n"
     ]
    },
    {
     "data": {
      "application/vnd.jupyter.widget-view+json": {
       "model_id": "ebc2def20586440194c5fdcc6fe6f80a",
       "version_major": 2,
       "version_minor": 0
      },
      "text/plain": [
       "Channels for image 45:   0%|          | 0/2048 [00:00<?, ?it/s]"
      ]
     },
     "metadata": {},
     "output_type": "display_data"
    },
    {
     "name": "stdout",
     "output_type": "stream",
     "text": [
      "\n",
      "Image 45: True Value: 44.1817, Prediction: 47.5843, Error: 3.4026\n"
     ]
    },
    {
     "data": {
      "application/vnd.jupyter.widget-view+json": {
       "model_id": "49bc29ac35e9481b8719511f80403d7f",
       "version_major": 2,
       "version_minor": 0
      },
      "text/plain": [
       "Channels for image 46:   0%|          | 0/2048 [00:00<?, ?it/s]"
      ]
     },
     "metadata": {},
     "output_type": "display_data"
    },
    {
     "name": "stdout",
     "output_type": "stream",
     "text": [
      "\n",
      "Image 46: True Value: 60.6214, Prediction: 36.6683, Error: 23.9531\n"
     ]
    },
    {
     "data": {
      "application/vnd.jupyter.widget-view+json": {
       "model_id": "45d63ef767424a19bbb05893cc6c6441",
       "version_major": 2,
       "version_minor": 0
      },
      "text/plain": [
       "Channels for image 47:   0%|          | 0/2048 [00:00<?, ?it/s]"
      ]
     },
     "metadata": {},
     "output_type": "display_data"
    },
    {
     "name": "stdout",
     "output_type": "stream",
     "text": [
      "\n",
      "Image 47: True Value: 47.6191, Prediction: 47.5871, Error: 0.0320\n"
     ]
    },
    {
     "data": {
      "application/vnd.jupyter.widget-view+json": {
       "model_id": "2a2557dc629941b8a4e16051840f4f56",
       "version_major": 2,
       "version_minor": 0
      },
      "text/plain": [
       "Channels for image 48:   0%|          | 0/2048 [00:00<?, ?it/s]"
      ]
     },
     "metadata": {},
     "output_type": "display_data"
    },
    {
     "name": "stdout",
     "output_type": "stream",
     "text": [
      "\n",
      "Image 48: True Value: 50.8065, Prediction: 61.0038, Error: 10.1973\n"
     ]
    },
    {
     "data": {
      "application/vnd.jupyter.widget-view+json": {
       "model_id": "a0cb4b795bfb45378cb2ac39ef0570cd",
       "version_major": 2,
       "version_minor": 0
      },
      "text/plain": [
       "Channels for image 49:   0%|          | 0/2048 [00:00<?, ?it/s]"
      ]
     },
     "metadata": {},
     "output_type": "display_data"
    },
    {
     "name": "stdout",
     "output_type": "stream",
     "text": [
      "\n",
      "Image 49: True Value: 53.8090, Prediction: 52.9766, Error: 0.8324\n"
     ]
    },
    {
     "data": {
      "application/vnd.jupyter.widget-view+json": {
       "model_id": "2c4afb8ad6d0409ca9559bf5da131aed",
       "version_major": 2,
       "version_minor": 0
      },
      "text/plain": [
       "Channels for image 50:   0%|          | 0/2048 [00:00<?, ?it/s]"
      ]
     },
     "metadata": {},
     "output_type": "display_data"
    },
    {
     "name": "stdout",
     "output_type": "stream",
     "text": [
      "\n",
      "Image 50: True Value: 47.7000, Prediction: 44.5880, Error: 3.1120\n"
     ]
    },
    {
     "data": {
      "application/vnd.jupyter.widget-view+json": {
       "model_id": "48619705afb54a0792fbf6ca1364d153",
       "version_major": 2,
       "version_minor": 0
      },
      "text/plain": [
       "Channels for image 51:   0%|          | 0/2048 [00:00<?, ?it/s]"
      ]
     },
     "metadata": {},
     "output_type": "display_data"
    },
    {
     "name": "stdout",
     "output_type": "stream",
     "text": [
      "\n",
      "Image 51: True Value: 58.7499, Prediction: 52.8645, Error: 5.8854\n"
     ]
    },
    {
     "data": {
      "application/vnd.jupyter.widget-view+json": {
       "model_id": "96d4600761404a25bed2d99671dde383",
       "version_major": 2,
       "version_minor": 0
      },
      "text/plain": [
       "Channels for image 52:   0%|          | 0/2048 [00:00<?, ?it/s]"
      ]
     },
     "metadata": {},
     "output_type": "display_data"
    },
    {
     "name": "stdout",
     "output_type": "stream",
     "text": [
      "\n",
      "Image 52: True Value: 48.0744, Prediction: 51.4718, Error: 3.3974\n"
     ]
    },
    {
     "data": {
      "application/vnd.jupyter.widget-view+json": {
       "model_id": "1d0c5b1eb4ce483e9ae5e719d926f356",
       "version_major": 2,
       "version_minor": 0
      },
      "text/plain": [
       "Channels for image 53:   0%|          | 0/2048 [00:00<?, ?it/s]"
      ]
     },
     "metadata": {},
     "output_type": "display_data"
    },
    {
     "name": "stdout",
     "output_type": "stream",
     "text": [
      "\n",
      "Image 53: True Value: 45.5417, Prediction: 45.5346, Error: 0.0071\n"
     ]
    },
    {
     "data": {
      "application/vnd.jupyter.widget-view+json": {
       "model_id": "615eadf33daf49159336afa02230e630",
       "version_major": 2,
       "version_minor": 0
      },
      "text/plain": [
       "Channels for image 54:   0%|          | 0/2048 [00:00<?, ?it/s]"
      ]
     },
     "metadata": {},
     "output_type": "display_data"
    },
    {
     "name": "stdout",
     "output_type": "stream",
     "text": [
      "\n",
      "Image 54: True Value: 52.4014, Prediction: 38.5046, Error: 13.8967\n"
     ]
    },
    {
     "data": {
      "application/vnd.jupyter.widget-view+json": {
       "model_id": "6cbe1c328762455ea7c337342bf6e5c3",
       "version_major": 2,
       "version_minor": 0
      },
      "text/plain": [
       "Channels for image 55:   0%|          | 0/2048 [00:00<?, ?it/s]"
      ]
     },
     "metadata": {},
     "output_type": "display_data"
    },
    {
     "name": "stdout",
     "output_type": "stream",
     "text": [
      "\n",
      "Image 55: True Value: 60.7044, Prediction: 65.0155, Error: 4.3111\n"
     ]
    },
    {
     "data": {
      "application/vnd.jupyter.widget-view+json": {
       "model_id": "836aed0bed3a44da9ba1088d64c4f7e7",
       "version_major": 2,
       "version_minor": 0
      },
      "text/plain": [
       "Channels for image 56:   0%|          | 0/2048 [00:00<?, ?it/s]"
      ]
     },
     "metadata": {},
     "output_type": "display_data"
    },
    {
     "name": "stdout",
     "output_type": "stream",
     "text": [
      "\n",
      "Image 56: True Value: 35.0102, Prediction: 36.5253, Error: 1.5151\n"
     ]
    },
    {
     "data": {
      "application/vnd.jupyter.widget-view+json": {
       "model_id": "69989c87963b47d5b454994a6ee15781",
       "version_major": 2,
       "version_minor": 0
      },
      "text/plain": [
       "Channels for image 57:   0%|          | 0/2048 [00:00<?, ?it/s]"
      ]
     },
     "metadata": {},
     "output_type": "display_data"
    },
    {
     "name": "stdout",
     "output_type": "stream",
     "text": [
      "\n",
      "Image 57: True Value: 47.7192, Prediction: 52.5209, Error: 4.8016\n"
     ]
    },
    {
     "data": {
      "application/vnd.jupyter.widget-view+json": {
       "model_id": "2ed9a62fbf8a45659345d5f8fb5b816e",
       "version_major": 2,
       "version_minor": 0
      },
      "text/plain": [
       "Channels for image 58:   0%|          | 0/2048 [00:00<?, ?it/s]"
      ]
     },
     "metadata": {},
     "output_type": "display_data"
    },
    {
     "name": "stdout",
     "output_type": "stream",
     "text": [
      "\n",
      "Image 58: True Value: 55.4795, Prediction: 35.4936, Error: 19.9859\n"
     ]
    },
    {
     "data": {
      "application/vnd.jupyter.widget-view+json": {
       "model_id": "478cf45c33d2435c876f286ca57b2319",
       "version_major": 2,
       "version_minor": 0
      },
      "text/plain": [
       "Channels for image 59:   0%|          | 0/2048 [00:00<?, ?it/s]"
      ]
     },
     "metadata": {},
     "output_type": "display_data"
    },
    {
     "name": "stdout",
     "output_type": "stream",
     "text": [
      "\n",
      "Image 59: True Value: 46.8647, Prediction: 43.2692, Error: 3.5954\n"
     ]
    },
    {
     "data": {
      "application/vnd.jupyter.widget-view+json": {
       "model_id": "39196af3ce1241bcacb819848a588772",
       "version_major": 2,
       "version_minor": 0
      },
      "text/plain": [
       "Channels for image 60:   0%|          | 0/2048 [00:00<?, ?it/s]"
      ]
     },
     "metadata": {},
     "output_type": "display_data"
    },
    {
     "name": "stdout",
     "output_type": "stream",
     "text": [
      "\n",
      "Image 60: True Value: 60.2659, Prediction: 56.5978, Error: 3.6681\n"
     ]
    },
    {
     "data": {
      "application/vnd.jupyter.widget-view+json": {
       "model_id": "3c18fb40f13b4242ab834ded82eaab0f",
       "version_major": 2,
       "version_minor": 0
      },
      "text/plain": [
       "Channels for image 61:   0%|          | 0/2048 [00:00<?, ?it/s]"
      ]
     },
     "metadata": {},
     "output_type": "display_data"
    },
    {
     "name": "stdout",
     "output_type": "stream",
     "text": [
      "\n",
      "Image 61: True Value: 59.8172, Prediction: 43.2101, Error: 16.6071\n"
     ]
    },
    {
     "data": {
      "application/vnd.jupyter.widget-view+json": {
       "model_id": "a2202a95e86f49ef9dd1f4db11e96fd0",
       "version_major": 2,
       "version_minor": 0
      },
      "text/plain": [
       "Channels for image 62:   0%|          | 0/2048 [00:00<?, ?it/s]"
      ]
     },
     "metadata": {},
     "output_type": "display_data"
    },
    {
     "name": "stdout",
     "output_type": "stream",
     "text": [
      "\n",
      "Image 62: True Value: 56.7932, Prediction: 63.7869, Error: 6.9937\n"
     ]
    },
    {
     "data": {
      "application/vnd.jupyter.widget-view+json": {
       "model_id": "9e757f8d79df4e1da19f5a9ea789e5a5",
       "version_major": 2,
       "version_minor": 0
      },
      "text/plain": [
       "Channels for image 63:   0%|          | 0/2048 [00:00<?, ?it/s]"
      ]
     },
     "metadata": {},
     "output_type": "display_data"
    },
    {
     "name": "stdout",
     "output_type": "stream",
     "text": [
      "\n",
      "Image 63: True Value: 65.8356, Prediction: 55.0344, Error: 10.8012\n"
     ]
    },
    {
     "data": {
      "application/vnd.jupyter.widget-view+json": {
       "model_id": "a365bb25ccd54eb58528a9d806c4929c",
       "version_major": 2,
       "version_minor": 0
      },
      "text/plain": [
       "Channels for image 64:   0%|          | 0/2048 [00:00<?, ?it/s]"
      ]
     },
     "metadata": {},
     "output_type": "display_data"
    },
    {
     "name": "stdout",
     "output_type": "stream",
     "text": [
      "\n",
      "Image 64: True Value: 50.0332, Prediction: 54.4445, Error: 4.4113\n"
     ]
    },
    {
     "data": {
      "application/vnd.jupyter.widget-view+json": {
       "model_id": "0b4e2299a0e24e9eb7a11f1d38d60f24",
       "version_major": 2,
       "version_minor": 0
      },
      "text/plain": [
       "Channels for image 65:   0%|          | 0/2048 [00:00<?, ?it/s]"
      ]
     },
     "metadata": {},
     "output_type": "display_data"
    },
    {
     "name": "stdout",
     "output_type": "stream",
     "text": [
      "\n",
      "Image 65: True Value: 43.3744, Prediction: 35.9622, Error: 7.4122\n"
     ]
    },
    {
     "data": {
      "application/vnd.jupyter.widget-view+json": {
       "model_id": "8819c851567f4da994a45c50ce060795",
       "version_major": 2,
       "version_minor": 0
      },
      "text/plain": [
       "Channels for image 66:   0%|          | 0/2048 [00:00<?, ?it/s]"
      ]
     },
     "metadata": {},
     "output_type": "display_data"
    },
    {
     "name": "stdout",
     "output_type": "stream",
     "text": [
      "\n",
      "Image 66: True Value: 55.5255, Prediction: 52.3116, Error: 3.2139\n"
     ]
    },
    {
     "data": {
      "application/vnd.jupyter.widget-view+json": {
       "model_id": "3284af8bb67d40b8934637491f85767e",
       "version_major": 2,
       "version_minor": 0
      },
      "text/plain": [
       "Channels for image 67:   0%|          | 0/2048 [00:00<?, ?it/s]"
      ]
     },
     "metadata": {},
     "output_type": "display_data"
    },
    {
     "name": "stdout",
     "output_type": "stream",
     "text": [
      "\n",
      "Image 67: True Value: 55.9668, Prediction: 50.3953, Error: 5.5715\n"
     ]
    },
    {
     "data": {
      "application/vnd.jupyter.widget-view+json": {
       "model_id": "0b435da9fb874073a64b0d7c491e03c0",
       "version_major": 2,
       "version_minor": 0
      },
      "text/plain": [
       "Channels for image 68:   0%|          | 0/2048 [00:00<?, ?it/s]"
      ]
     },
     "metadata": {},
     "output_type": "display_data"
    },
    {
     "name": "stdout",
     "output_type": "stream",
     "text": [
      "\n",
      "Image 68: True Value: 52.3697, Prediction: 52.3144, Error: 0.0552\n"
     ]
    },
    {
     "data": {
      "application/vnd.jupyter.widget-view+json": {
       "model_id": "884b8f5a740149ee833ab32ff0690535",
       "version_major": 2,
       "version_minor": 0
      },
      "text/plain": [
       "Channels for image 69:   0%|          | 0/2048 [00:00<?, ?it/s]"
      ]
     },
     "metadata": {},
     "output_type": "display_data"
    },
    {
     "name": "stdout",
     "output_type": "stream",
     "text": [
      "\n",
      "Image 69: True Value: 47.1340, Prediction: 65.7332, Error: 18.5992\n"
     ]
    },
    {
     "data": {
      "application/vnd.jupyter.widget-view+json": {
       "model_id": "1d2f3ee2cb024b56b4f8807f028932b9",
       "version_major": 2,
       "version_minor": 0
      },
      "text/plain": [
       "Channels for image 70:   0%|          | 0/2048 [00:00<?, ?it/s]"
      ]
     },
     "metadata": {},
     "output_type": "display_data"
    },
    {
     "name": "stdout",
     "output_type": "stream",
     "text": [
      "\n",
      "Image 70: True Value: 68.6362, Prediction: 53.0612, Error: 15.5750\n"
     ]
    },
    {
     "data": {
      "application/vnd.jupyter.widget-view+json": {
       "model_id": "b742e0f07941450885e02f345337c65d",
       "version_major": 2,
       "version_minor": 0
      },
      "text/plain": [
       "Channels for image 71:   0%|          | 0/2048 [00:00<?, ?it/s]"
      ]
     },
     "metadata": {},
     "output_type": "display_data"
    },
    {
     "name": "stdout",
     "output_type": "stream",
     "text": [
      "\n",
      "Image 71: True Value: 53.7377, Prediction: 68.9841, Error: 15.2463\n"
     ]
    },
    {
     "data": {
      "application/vnd.jupyter.widget-view+json": {
       "model_id": "3ceea25cea254a4c9f9460403d963261",
       "version_major": 2,
       "version_minor": 0
      },
      "text/plain": [
       "Channels for image 72:   0%|          | 0/2048 [00:00<?, ?it/s]"
      ]
     },
     "metadata": {},
     "output_type": "display_data"
    },
    {
     "name": "stdout",
     "output_type": "stream",
     "text": [
      "\n",
      "Image 72: True Value: 56.2419, Prediction: 41.6616, Error: 14.5803\n"
     ]
    },
    {
     "data": {
      "application/vnd.jupyter.widget-view+json": {
       "model_id": "fb3ae89a43b540e6aafb8b475353b66c",
       "version_major": 2,
       "version_minor": 0
      },
      "text/plain": [
       "Channels for image 73:   0%|          | 0/2048 [00:00<?, ?it/s]"
      ]
     },
     "metadata": {},
     "output_type": "display_data"
    },
    {
     "name": "stdout",
     "output_type": "stream",
     "text": [
      "\n",
      "Image 73: True Value: 51.9664, Prediction: 49.6594, Error: 2.3070\n"
     ]
    },
    {
     "data": {
      "application/vnd.jupyter.widget-view+json": {
       "model_id": "f3f4699eb7804f608abbecfa6c185d22",
       "version_major": 2,
       "version_minor": 0
      },
      "text/plain": [
       "Channels for image 74:   0%|          | 0/2048 [00:00<?, ?it/s]"
      ]
     },
     "metadata": {},
     "output_type": "display_data"
    },
    {
     "name": "stdout",
     "output_type": "stream",
     "text": [
      "\n",
      "Image 74: True Value: 53.0945, Prediction: 49.8139, Error: 3.2806\n"
     ]
    },
    {
     "data": {
      "application/vnd.jupyter.widget-view+json": {
       "model_id": "f20f4144f3dc447abdc289e422b41547",
       "version_major": 2,
       "version_minor": 0
      },
      "text/plain": [
       "Channels for image 75:   0%|          | 0/2048 [00:00<?, ?it/s]"
      ]
     },
     "metadata": {},
     "output_type": "display_data"
    },
    {
     "name": "stdout",
     "output_type": "stream",
     "text": [
      "\n",
      "Image 75: True Value: 62.2241, Prediction: 49.7430, Error: 12.4812\n"
     ]
    },
    {
     "data": {
      "application/vnd.jupyter.widget-view+json": {
       "model_id": "2c25ae571bc048e98ea773c618bb3e0f",
       "version_major": 2,
       "version_minor": 0
      },
      "text/plain": [
       "Channels for image 76:   0%|          | 0/2048 [00:00<?, ?it/s]"
      ]
     },
     "metadata": {},
     "output_type": "display_data"
    },
    {
     "name": "stdout",
     "output_type": "stream",
     "text": [
      "\n",
      "Image 76: True Value: 54.3700, Prediction: 58.6951, Error: 4.3251\n"
     ]
    },
    {
     "data": {
      "application/vnd.jupyter.widget-view+json": {
       "model_id": "be4d8768dc89472b86b14ea8ede0fbc7",
       "version_major": 2,
       "version_minor": 0
      },
      "text/plain": [
       "Channels for image 77:   0%|          | 0/2048 [00:00<?, ?it/s]"
      ]
     },
     "metadata": {},
     "output_type": "display_data"
    },
    {
     "name": "stdout",
     "output_type": "stream",
     "text": [
      "\n",
      "Image 77: True Value: 54.4449, Prediction: 51.8273, Error: 2.6176\n"
     ]
    },
    {
     "data": {
      "application/vnd.jupyter.widget-view+json": {
       "model_id": "2a2b82acb41b42cd961709de3cf2fc01",
       "version_major": 2,
       "version_minor": 0
      },
      "text/plain": [
       "Channels for image 78:   0%|          | 0/2048 [00:00<?, ?it/s]"
      ]
     },
     "metadata": {},
     "output_type": "display_data"
    },
    {
     "name": "stdout",
     "output_type": "stream",
     "text": [
      "\n",
      "Image 78: True Value: 44.3746, Prediction: 31.9308, Error: 12.4438\n"
     ]
    },
    {
     "data": {
      "application/vnd.jupyter.widget-view+json": {
       "model_id": "5d2dd05e92b1435ba083a4a899d93ead",
       "version_major": 2,
       "version_minor": 0
      },
      "text/plain": [
       "Channels for image 79:   0%|          | 0/2048 [00:00<?, ?it/s]"
      ]
     },
     "metadata": {},
     "output_type": "display_data"
    },
    {
     "name": "stdout",
     "output_type": "stream",
     "text": [
      "\n",
      "Image 79: True Value: 50.9975, Prediction: 52.4150, Error: 1.4175\n"
     ]
    },
    {
     "data": {
      "application/vnd.jupyter.widget-view+json": {
       "model_id": "2200d8dfc199485aba66042e284d8b5c",
       "version_major": 2,
       "version_minor": 0
      },
      "text/plain": [
       "Channels for image 80:   0%|          | 0/2048 [00:00<?, ?it/s]"
      ]
     },
     "metadata": {},
     "output_type": "display_data"
    },
    {
     "name": "stdout",
     "output_type": "stream",
     "text": [
      "\n",
      "Image 80: True Value: 56.0018, Prediction: 58.1472, Error: 2.1455\n"
     ]
    },
    {
     "data": {
      "application/vnd.jupyter.widget-view+json": {
       "model_id": "ff614fab13d3464399ead4fd4f8e6489",
       "version_major": 2,
       "version_minor": 0
      },
      "text/plain": [
       "Channels for image 81:   0%|          | 0/2048 [00:00<?, ?it/s]"
      ]
     },
     "metadata": {},
     "output_type": "display_data"
    },
    {
     "name": "stdout",
     "output_type": "stream",
     "text": [
      "\n",
      "Image 81: True Value: 37.6742, Prediction: 40.8301, Error: 3.1559\n"
     ]
    },
    {
     "data": {
      "application/vnd.jupyter.widget-view+json": {
       "model_id": "17c65d0268234ecba8fd8e39e5eee876",
       "version_major": 2,
       "version_minor": 0
      },
      "text/plain": [
       "Channels for image 82:   0%|          | 0/2048 [00:00<?, ?it/s]"
      ]
     },
     "metadata": {},
     "output_type": "display_data"
    },
    {
     "name": "stdout",
     "output_type": "stream",
     "text": [
      "\n",
      "Image 82: True Value: 56.3482, Prediction: 69.4267, Error: 13.0785\n"
     ]
    },
    {
     "data": {
      "application/vnd.jupyter.widget-view+json": {
       "model_id": "fe8ea1e7122e4897bd8ce1ff280b9feb",
       "version_major": 2,
       "version_minor": 0
      },
      "text/plain": [
       "Channels for image 83:   0%|          | 0/2048 [00:00<?, ?it/s]"
      ]
     },
     "metadata": {},
     "output_type": "display_data"
    },
    {
     "name": "stdout",
     "output_type": "stream",
     "text": [
      "\n",
      "Image 83: True Value: 59.5374, Prediction: 41.2683, Error: 18.2691\n"
     ]
    },
    {
     "data": {
      "application/vnd.jupyter.widget-view+json": {
       "model_id": "b0989122b9eb4610a75e2799d3b53150",
       "version_major": 2,
       "version_minor": 0
      },
      "text/plain": [
       "Channels for image 84:   0%|          | 0/2048 [00:00<?, ?it/s]"
      ]
     },
     "metadata": {},
     "output_type": "display_data"
    },
    {
     "name": "stdout",
     "output_type": "stream",
     "text": [
      "\n",
      "Image 84: True Value: 45.8111, Prediction: 53.5585, Error: 7.7473\n"
     ]
    },
    {
     "data": {
      "application/vnd.jupyter.widget-view+json": {
       "model_id": "5d7e8d8e80f54fb1b917e9936a5488c7",
       "version_major": 2,
       "version_minor": 0
      },
      "text/plain": [
       "Channels for image 85:   0%|          | 0/2048 [00:00<?, ?it/s]"
      ]
     },
     "metadata": {},
     "output_type": "display_data"
    },
    {
     "name": "stdout",
     "output_type": "stream",
     "text": [
      "\n",
      "Image 85: True Value: 53.2778, Prediction: 60.4213, Error: 7.1435\n"
     ]
    },
    {
     "data": {
      "application/vnd.jupyter.widget-view+json": {
       "model_id": "73fc1b591698429b9870a04db1cdcf2b",
       "version_major": 2,
       "version_minor": 0
      },
      "text/plain": [
       "Channels for image 86:   0%|          | 0/2048 [00:00<?, ?it/s]"
      ]
     },
     "metadata": {},
     "output_type": "display_data"
    },
    {
     "name": "stdout",
     "output_type": "stream",
     "text": [
      "\n",
      "Image 86: True Value: 47.2275, Prediction: 57.2552, Error: 10.0277\n"
     ]
    },
    {
     "data": {
      "application/vnd.jupyter.widget-view+json": {
       "model_id": "692cb9130a7345469e3943999c85bebd",
       "version_major": 2,
       "version_minor": 0
      },
      "text/plain": [
       "Channels for image 87:   0%|          | 0/2048 [00:00<?, ?it/s]"
      ]
     },
     "metadata": {},
     "output_type": "display_data"
    },
    {
     "name": "stdout",
     "output_type": "stream",
     "text": [
      "\n",
      "Image 87: True Value: 53.2309, Prediction: 51.7111, Error: 1.5198\n"
     ]
    },
    {
     "data": {
      "application/vnd.jupyter.widget-view+json": {
       "model_id": "a13fe030346f4242bdb0df65618cc849",
       "version_major": 2,
       "version_minor": 0
      },
      "text/plain": [
       "Channels for image 88:   0%|          | 0/2048 [00:00<?, ?it/s]"
      ]
     },
     "metadata": {},
     "output_type": "display_data"
    },
    {
     "name": "stdout",
     "output_type": "stream",
     "text": [
      "\n",
      "Image 88: True Value: 61.3454, Prediction: 51.8509, Error: 9.4946\n"
     ]
    },
    {
     "data": {
      "application/vnd.jupyter.widget-view+json": {
       "model_id": "80082dc7378242a8835417f98ed88c1d",
       "version_major": 2,
       "version_minor": 0
      },
      "text/plain": [
       "Channels for image 89:   0%|          | 0/2048 [00:00<?, ?it/s]"
      ]
     },
     "metadata": {},
     "output_type": "display_data"
    },
    {
     "name": "stdout",
     "output_type": "stream",
     "text": [
      "\n",
      "Image 89: True Value: 53.8113, Prediction: 58.0762, Error: 4.2649\n"
     ]
    },
    {
     "data": {
      "application/vnd.jupyter.widget-view+json": {
       "model_id": "d34ad73d1c7f469e8d2a5a93794e8024",
       "version_major": 2,
       "version_minor": 0
      },
      "text/plain": [
       "Channels for image 90:   0%|          | 0/2048 [00:00<?, ?it/s]"
      ]
     },
     "metadata": {},
     "output_type": "display_data"
    },
    {
     "name": "stdout",
     "output_type": "stream",
     "text": [
      "\n",
      "Image 90: True Value: 44.5171, Prediction: 36.7294, Error: 7.7877\n"
     ]
    },
    {
     "data": {
      "application/vnd.jupyter.widget-view+json": {
       "model_id": "c7cb139cc2854512b4d04a342e1c7e12",
       "version_major": 2,
       "version_minor": 0
      },
      "text/plain": [
       "Channels for image 91:   0%|          | 0/2048 [00:00<?, ?it/s]"
      ]
     },
     "metadata": {},
     "output_type": "display_data"
    },
    {
     "name": "stdout",
     "output_type": "stream",
     "text": [
      "\n",
      "Image 91: True Value: 54.6732, Prediction: 50.3108, Error: 4.3624\n"
     ]
    },
    {
     "data": {
      "application/vnd.jupyter.widget-view+json": {
       "model_id": "6dac89b62fa646cc8398ccb2aff3db6a",
       "version_major": 2,
       "version_minor": 0
      },
      "text/plain": [
       "Channels for image 92:   0%|          | 0/2048 [00:00<?, ?it/s]"
      ]
     },
     "metadata": {},
     "output_type": "display_data"
    },
    {
     "name": "stdout",
     "output_type": "stream",
     "text": [
      "\n",
      "Image 92: True Value: 55.1094, Prediction: 58.4346, Error: 3.3253\n"
     ]
    },
    {
     "data": {
      "application/vnd.jupyter.widget-view+json": {
       "model_id": "0a404129a16f4d21b064990f27f98b03",
       "version_major": 2,
       "version_minor": 0
      },
      "text/plain": [
       "Channels for image 93:   0%|          | 0/2048 [00:00<?, ?it/s]"
      ]
     },
     "metadata": {},
     "output_type": "display_data"
    },
    {
     "name": "stdout",
     "output_type": "stream",
     "text": [
      "\n",
      "Image 93: True Value: 47.7061, Prediction: 49.5710, Error: 1.8649\n"
     ]
    },
    {
     "data": {
      "application/vnd.jupyter.widget-view+json": {
       "model_id": "634ea7f2b7d54ea297c393d9bc50e84a",
       "version_major": 2,
       "version_minor": 0
      },
      "text/plain": [
       "Channels for image 94:   0%|          | 0/2048 [00:00<?, ?it/s]"
      ]
     },
     "metadata": {},
     "output_type": "display_data"
    },
    {
     "name": "stdout",
     "output_type": "stream",
     "text": [
      "\n",
      "Image 94: True Value: 61.3569, Prediction: 36.2914, Error: 25.0655\n"
     ]
    },
    {
     "data": {
      "application/vnd.jupyter.widget-view+json": {
       "model_id": "17a2b24c67a24ddd8c9f952bcc7eac62",
       "version_major": 2,
       "version_minor": 0
      },
      "text/plain": [
       "Channels for image 95:   0%|          | 0/2048 [00:00<?, ?it/s]"
      ]
     },
     "metadata": {},
     "output_type": "display_data"
    },
    {
     "name": "stdout",
     "output_type": "stream",
     "text": [
      "\n",
      "Image 95: True Value: 44.2424, Prediction: 37.9756, Error: 6.2668\n"
     ]
    },
    {
     "data": {
      "application/vnd.jupyter.widget-view+json": {
       "model_id": "8f6ff75b82034545b77f8fa5016d63f3",
       "version_major": 2,
       "version_minor": 0
      },
      "text/plain": [
       "Channels for image 96:   0%|          | 0/2048 [00:00<?, ?it/s]"
      ]
     },
     "metadata": {},
     "output_type": "display_data"
    },
    {
     "name": "stdout",
     "output_type": "stream",
     "text": [
      "\n",
      "Image 96: True Value: 53.0186, Prediction: 55.5713, Error: 2.5527\n"
     ]
    },
    {
     "data": {
      "application/vnd.jupyter.widget-view+json": {
       "model_id": "1c4f7d90a6b14bb197bb1fa275bbd360",
       "version_major": 2,
       "version_minor": 0
      },
      "text/plain": [
       "Channels for image 97:   0%|          | 0/2048 [00:00<?, ?it/s]"
      ]
     },
     "metadata": {},
     "output_type": "display_data"
    },
    {
     "name": "stdout",
     "output_type": "stream",
     "text": [
      "\n",
      "Image 97: True Value: 55.4653, Prediction: 53.5778, Error: 1.8876\n"
     ]
    },
    {
     "data": {
      "application/vnd.jupyter.widget-view+json": {
       "model_id": "e6e5029a9ec24c738177bd27380f5c0c",
       "version_major": 2,
       "version_minor": 0
      },
      "text/plain": [
       "Channels for image 98:   0%|          | 0/2048 [00:00<?, ?it/s]"
      ]
     },
     "metadata": {},
     "output_type": "display_data"
    },
    {
     "name": "stdout",
     "output_type": "stream",
     "text": [
      "\n",
      "Image 98: True Value: 60.4800, Prediction: 57.3253, Error: 3.1547\n"
     ]
    },
    {
     "data": {
      "application/vnd.jupyter.widget-view+json": {
       "model_id": "1d20775a6c62413d930620b99226d58d",
       "version_major": 2,
       "version_minor": 0
      },
      "text/plain": [
       "Channels for image 99:   0%|          | 0/2048 [00:00<?, ?it/s]"
      ]
     },
     "metadata": {},
     "output_type": "display_data"
    },
    {
     "name": "stdout",
     "output_type": "stream",
     "text": [
      "\n",
      "Image 99: True Value: 41.8956, Prediction: 37.9854, Error: 3.9102\n"
     ]
    },
    {
     "data": {
      "application/vnd.jupyter.widget-view+json": {
       "model_id": "c5296390d82e41778bdab42a39ae22b7",
       "version_major": 2,
       "version_minor": 0
      },
      "text/plain": [
       "Channels for image 100:   0%|          | 0/2048 [00:00<?, ?it/s]"
      ]
     },
     "metadata": {},
     "output_type": "display_data"
    },
    {
     "name": "stdout",
     "output_type": "stream",
     "text": [
      "\n",
      "Image 100: True Value: 51.0536, Prediction: 48.1469, Error: 2.9067\n"
     ]
    },
    {
     "data": {
      "application/vnd.jupyter.widget-view+json": {
       "model_id": "22f734c0dbf84e859129445b36de5038",
       "version_major": 2,
       "version_minor": 0
      },
      "text/plain": [
       "Channels for image 101:   0%|          | 0/2048 [00:00<?, ?it/s]"
      ]
     },
     "metadata": {},
     "output_type": "display_data"
    },
    {
     "name": "stdout",
     "output_type": "stream",
     "text": [
      "\n",
      "Image 101: True Value: 52.2214, Prediction: 55.1120, Error: 2.8906\n"
     ]
    },
    {
     "data": {
      "application/vnd.jupyter.widget-view+json": {
       "model_id": "bfc223854dc14b7cbe95a2be0a370a56",
       "version_major": 2,
       "version_minor": 0
      },
      "text/plain": [
       "Channels for image 102:   0%|          | 0/2048 [00:00<?, ?it/s]"
      ]
     },
     "metadata": {},
     "output_type": "display_data"
    },
    {
     "name": "stdout",
     "output_type": "stream",
     "text": [
      "\n",
      "Image 102: True Value: 62.0562, Prediction: 47.5550, Error: 14.5012\n"
     ]
    },
    {
     "data": {
      "application/vnd.jupyter.widget-view+json": {
       "model_id": "ded99e35851948f080eb58485210b02a",
       "version_major": 2,
       "version_minor": 0
      },
      "text/plain": [
       "Channels for image 103:   0%|          | 0/2048 [00:00<?, ?it/s]"
      ]
     },
     "metadata": {},
     "output_type": "display_data"
    },
    {
     "name": "stdout",
     "output_type": "stream",
     "text": [
      "\n",
      "Image 103: True Value: 48.4359, Prediction: 53.4901, Error: 5.0541\n"
     ]
    },
    {
     "data": {
      "application/vnd.jupyter.widget-view+json": {
       "model_id": "0b962e8ace81454da4c6f2b1d577992c",
       "version_major": 2,
       "version_minor": 0
      },
      "text/plain": [
       "Channels for image 104:   0%|          | 0/2048 [00:00<?, ?it/s]"
      ]
     },
     "metadata": {},
     "output_type": "display_data"
    },
    {
     "name": "stdout",
     "output_type": "stream",
     "text": [
      "\n",
      "Image 104: True Value: 47.2846, Prediction: 39.0043, Error: 8.2803\n"
     ]
    },
    {
     "data": {
      "application/vnd.jupyter.widget-view+json": {
       "model_id": "6234430f6afa44d9b2fe1d5b96ce74e5",
       "version_major": 2,
       "version_minor": 0
      },
      "text/plain": [
       "Channels for image 105:   0%|          | 0/2048 [00:00<?, ?it/s]"
      ]
     },
     "metadata": {},
     "output_type": "display_data"
    },
    {
     "name": "stdout",
     "output_type": "stream",
     "text": [
      "\n",
      "Image 105: True Value: 41.7983, Prediction: 47.9260, Error: 6.1277\n"
     ]
    },
    {
     "data": {
      "application/vnd.jupyter.widget-view+json": {
       "model_id": "ad81819e92e3469c989c9069de5c144b",
       "version_major": 2,
       "version_minor": 0
      },
      "text/plain": [
       "Channels for image 106:   0%|          | 0/2048 [00:00<?, ?it/s]"
      ]
     },
     "metadata": {},
     "output_type": "display_data"
    }
   ],
   "source": [
    "\n",
    "# LAYER to prune \n",
    "LAYER = 'features.7.2.conv3' \n",
    "DEVICE = torch.device('cuda' if torch.cuda.is_available() else 'cpu')\n",
    "\n",
    "\n",
    "# Load the model\n",
    "model = AuthenticityPredictor()\n",
    "model.load_state_dict(torch.load('Weights/ResNet-152_real_authenticity_finetuned.pth'))\n",
    "model.eval()\n",
    "model.to(DEVICE)\n",
    "\n",
    "# # Compute per-object feature importance\n",
    "obj_x_obj_importance = compute_obj_x_obj_feature_map_importance(model, dataloaders['test'], DEVICE, LAYER)\n",
    "\n",
    "\n",
    "\n"
   ]
  },
  {
   "cell_type": "code",
   "execution_count": null,
   "metadata": {},
   "outputs": [],
   "source": []
  }
 ],
 "metadata": {
  "kernelspec": {
   "display_name": "base",
   "language": "python",
   "name": "python3"
  },
  "language_info": {
   "codemirror_mode": {
    "name": "ipython",
    "version": 3
   },
   "file_extension": ".py",
   "mimetype": "text/x-python",
   "name": "python",
   "nbconvert_exporter": "python",
   "pygments_lexer": "ipython3",
   "version": "3.11.8"
  }
 },
 "nbformat": 4,
 "nbformat_minor": 2
}
