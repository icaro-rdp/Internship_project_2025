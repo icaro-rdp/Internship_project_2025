{
 "cells": [
  {
   "cell_type": "markdown",
   "metadata": {},
   "source": [
    "# Import libraries"
   ]
  },
  {
   "cell_type": "code",
   "execution_count": 1,
   "metadata": {},
   "outputs": [],
   "source": [
    "import torch\n",
    "import torch.nn as nn\n",
    "import torch.optim as optim\n",
    "from torchvision import models, transforms\n",
    "from torchvision.models import vgg16, VGG16_Weights\n",
    "from torch.utils.data import Dataset, DataLoader, random_split\n",
    "import pandas as pd\n",
    "from PIL import Image\n",
    "import os\n",
    "import numpy as np\n",
    "import math"
   ]
  },
  {
   "cell_type": "markdown",
   "metadata": {},
   "source": [
    "# Database creations using pytorch Dataset "
   ]
  },
  {
   "cell_type": "code",
   "execution_count": 2,
   "metadata": {},
   "outputs": [],
   "source": [
    "class ImageQualityDataset(Dataset):\n",
    "    \"\"\"Dataset for image quality assessment.\"\"\"\n",
    "\n",
    "    def __init__(self, csv_file, transform=None, quality=None):\n",
    "        \"\"\"\n",
    "        Args:\n",
    "            csv_file (string): Path to the CSV file with annotations.\n",
    "            transform (callable, optional): Optional transform to be applied on a sample.\n",
    "            quality (string, optional): Filter by quality score ('low' for < 50, 'high' for >= 50).\n",
    "        \"\"\"\n",
    "        # Load the full dataset first\n",
    "        self.data = pd.read_csv(csv_file)\n",
    "        \n",
    "        median = self.data.iloc[:, 0].median()\n",
    "        print(\"Median quality score: \", median)\n",
    "        # Filter the dataset by quality if specified\n",
    "        if quality is not None:\n",
    "            if quality.lower() == 'low':\n",
    "                # Filter for quality scores below 50\n",
    "                self.data = self.data[self.data.iloc[:, 0] < median]  # Quality is in column 0\n",
    "            elif quality.lower() == 'high':\n",
    "                # Filter for quality scores above or equal to 50\n",
    "                self.data = self.data[self.data.iloc[:, 0] >= median]  # Quality is in column 0\n",
    "            else:\n",
    "                raise ValueError(\"quality must be either 'low', 'high', or None\")\n",
    "        \n",
    "        self.transform = transform\n",
    "\n",
    "    def __len__(self):\n",
    "        \"\"\"Returns the number of samples in the dataset.\"\"\"\n",
    "        return len(self.data)\n",
    "\n",
    "    def __getitem__(self, idx):\n",
    "        \"\"\"\n",
    "        Retrieves an image and its labels by index.\n",
    "\n",
    "        Args:\n",
    "            idx (int): Index of the sample to retrieve.\n",
    "\n",
    "        Returns:\n",
    "            tuple: A tuple (image, labels) where:\n",
    "                image (PIL.Image): The image.\n",
    "                labels (torch.Tensor): Tensor containing quality and authenticity scores.\n",
    "        \"\"\"\n",
    "        if torch.is_tensor(idx):\n",
    "            idx = idx.tolist()\n",
    "\n",
    "        img_name = os.path.join(os.getcwd(), self.data.iloc[idx, 3])  # image_path column\n",
    "        image = Image.open(img_name).convert('RGB')\n",
    "        quality = self.data.iloc[idx, 0]  # Quality column\n",
    "        labels = torch.tensor([quality], dtype=torch.float)\n",
    "\n",
    "        if self.transform:\n",
    "            image = self.transform(image)\n",
    "\n",
    "        return image, labels"
   ]
  },
  {
   "cell_type": "markdown",
   "metadata": {},
   "source": [
    "# Definitions of the models"
   ]
  },
  {
   "cell_type": "code",
   "execution_count": 3,
   "metadata": {},
   "outputs": [],
   "source": [
    "class QualityPredictor(nn.Module):\n",
    "    def __init__(self, freeze_backbone=True):\n",
    "        super().__init__()\n",
    "        # Load pre-trained VGG16\n",
    "        vgg = vgg16(weights=VGG16_Weights.DEFAULT)\n",
    "        \n",
    "        # Freeze backbone if requested\n",
    "        if freeze_backbone:\n",
    "            for param in vgg.features.parameters():\n",
    "                param.requires_grad = False\n",
    "                \n",
    "        # Extract features up to fc2\n",
    "        self.features = vgg.features\n",
    "        self.avgpool = vgg.avgpool\n",
    "        self.fc1 = vgg.classifier[:-1]  # Up to fc2 (4096 -> 128)\n",
    "        \n",
    "        # New regression head\n",
    "        self.regression_head = nn.Sequential(\n",
    "            nn.Linear(4096, 128),\n",
    "            nn.ReLU(),\n",
    "            nn.Dropout(0.5),\n",
    "            nn.Linear(128, 1)  # Predict quality and realness\n",
    "        )\n",
    "        \n",
    "    def forward(self, x):\n",
    "        x = self.features(x)\n",
    "        x = self.avgpool(x)\n",
    "        x = torch.flatten(x, 1)\n",
    "        features = self.fc1(x)\n",
    "        predictions = self.regression_head(features)\n",
    "        return predictions, features"
   ]
  },
  {
   "cell_type": "markdown",
   "metadata": {},
   "source": [
    "# Utility functions for training and evaluation"
   ]
  },
  {
   "cell_type": "code",
   "execution_count": 4,
   "metadata": {},
   "outputs": [],
   "source": [
    "import time\n",
    "import copy\n",
    "from tqdm import tqdm\n",
    "\n",
    "\n",
    "def train_model(model, dataloaders, criterion, optimizer, \n",
    "                min_epochs=10, max_epochs=100, patience=10, device='cuda'):\n",
    "    \"\"\"\n",
    "    Trains the model with early stopping based on validation loss.\n",
    "    \n",
    "    Args:\n",
    "        model (nn.Module): The model to train.\n",
    "        dataloaders (dict): A dictionary containing the training and validation data loaders.\n",
    "        criterion (nn.Module): The loss function.\n",
    "        optimizer (optim.Optimizer): The optimizer.\n",
    "        min_epochs (int): Minimum number of epochs to train for before applying early stopping. Defaults to 10.\n",
    "        max_epochs (int): Maximum number of epochs to train for. Defaults to 100.\n",
    "        patience (int): Number of epochs to wait for improvement before early stopping. Defaults to 10.\n",
    "        device (str): Device to use for training ('cuda' or 'cpu'). Defaults to 'cuda'.\n",
    "    \n",
    "    Returns:\n",
    "        nn.Module: The best model based on validation loss.\n",
    "    \"\"\"\n",
    "    # Start timer to track total training time\n",
    "    start_time = time.time()\n",
    "    \n",
    "    # Initialize variables for tracking best model\n",
    "    best_model_weights = copy.deepcopy(model.state_dict())\n",
    "    best_val_loss = float('inf')\n",
    "    no_improve_count = 0\n",
    "    \n",
    "    # History dictionary to store metrics for later analysis/plotting\n",
    "    history = {\n",
    "        'train_loss': [],\n",
    "        'val_loss': []\n",
    "    }\n",
    "    \n",
    "    # Move model to specified device\n",
    "    model.to(device)\n",
    "    print(f\"Training on {device}\")\n",
    "    print(f\"Minimum epochs: {min_epochs}, Maximum epochs: {max_epochs}\")\n",
    "    print(f\"Early stopping patience: {patience}\")\n",
    "    \n",
    "    # Main training loop\n",
    "    for epoch in range(max_epochs):\n",
    "        print(f'Epoch {epoch+1}/{max_epochs}')\n",
    "        print('-' * 40)\n",
    "        \n",
    "        # Each epoch has a training and validation phase\n",
    "        for phase in ['train', 'val']:\n",
    "            if phase == 'train':\n",
    "                model.train()  # Set model to training mode\n",
    "            else:\n",
    "                model.eval()   # Set model to evaluation mode\n",
    "            \n",
    "            running_loss = 0.0\n",
    "            \n",
    "            # Use tqdm for a progress bar during training\n",
    "            total_batches = len(dataloaders[phase])\n",
    "            progress_bar = tqdm(dataloaders[phase], total=total_batches, \n",
    "                               desc=f'{phase.capitalize()}')\n",
    "            \n",
    "            # Iterate over data batches\n",
    "            for inputs, labels in progress_bar:\n",
    "                inputs = inputs.to(device)\n",
    "                labels = labels.to(device)\n",
    "                \n",
    "                # Zero the parameter gradients\n",
    "                optimizer.zero_grad()\n",
    "                \n",
    "                # Forward pass\n",
    "                with torch.set_grad_enabled(phase == 'train'):\n",
    "                    # Get model outputs\n",
    "                    outputs, _ = model(inputs)\n",
    "                    loss = criterion(outputs, labels)\n",
    "                    \n",
    "                    # Backward pass + optimize only if in training phase\n",
    "                    if phase == 'train':\n",
    "                        loss.backward()\n",
    "                        optimizer.step()\n",
    "                \n",
    "                # Update running loss and progress bar\n",
    "                batch_loss = loss.item() * inputs.size(0)\n",
    "                running_loss += batch_loss\n",
    "                progress_bar.set_postfix(loss=batch_loss/inputs.size(0))\n",
    "            \n",
    "            # Calculate epoch loss\n",
    "            epoch_loss = running_loss / len(dataloaders[phase].dataset)\n",
    "            \n",
    "            # Store loss in history\n",
    "            history[f'{phase}_loss'].append(epoch_loss)\n",
    "            \n",
    "            # Print phase results\n",
    "            print(f'{phase.capitalize()} Loss: {epoch_loss:.4f}')\n",
    "            \n",
    "            # If in validation phase, check if this is the best model\n",
    "            if phase == 'val':\n",
    "                if epoch_loss < best_val_loss:\n",
    "                    # Update best validation loss and save best model weights\n",
    "                    best_val_loss = epoch_loss\n",
    "                    best_model_weights = copy.deepcopy(model.state_dict())\n",
    "                    no_improve_count = 0\n",
    "                    print(f'New best validation loss: {best_val_loss:.4f}')\n",
    "                else:\n",
    "                    # Increment counter for early stopping\n",
    "                    no_improve_count += 1\n",
    "                    print(f'No improvement for {no_improve_count} epochs')\n",
    "                    \n",
    "                    # Check if we should stop training, but only after minimum epochs\n",
    "                    if no_improve_count >= patience and epoch+1 >= min_epochs:\n",
    "                        print(f'Early stopping triggered after {epoch+1} epochs')\n",
    "                        # Break out of the epoch loop\n",
    "                        break\n",
    "        \n",
    "        # Check if early stopping was triggered, but only after minimum epochs\n",
    "        if no_improve_count >= patience and epoch+1 >= min_epochs:\n",
    "            break\n",
    "        \n",
    "        print()  # Add empty line between epochs\n",
    "    \n",
    "    # Calculate total training time\n",
    "    time_elapsed = time.time() - start_time\n",
    "    print(f'Training complete in {time_elapsed//60:.0f}m {time_elapsed%60:.0f}s')\n",
    "    print(f'Best validation loss: {best_val_loss:.4f}')\n",
    "    \n",
    "    # Load best model weights\n",
    "    model.load_state_dict(best_model_weights)\n",
    "    \n",
    "    return model, history\n",
    "def test_model(model, dataloader, criterion, device='cuda'):\n",
    "\n",
    "    \"\"\"\n",
    "    Tests the model on the test dataset.\n",
    "\n",
    "    Args:\n",
    "        model (nn.Module): The trained model.\n",
    "        dataloader (DataLoader): The test data loader.\n",
    "        criterion (nn.Module): The loss function.\n",
    "        device (str): Device to use for testing ('cuda' or 'cpu'). Defaults to 'cuda'.\n",
    "\n",
    "    Returns:\n",
    "        float: The average loss on the test dataset.\n",
    "    \"\"\"\n",
    "    model.eval()  # Set the model to evaluation mode\n",
    "    model.to(device)\n",
    "    running_loss = 0.0\n",
    "\n",
    "    with torch.no_grad():  # Disable gradient calculation\n",
    "        for inputs, labels in dataloader:\n",
    "            inputs = inputs.to(device)\n",
    "            labels = labels.to(device)\n",
    "\n",
    "            outputs, _ = model(inputs)\n",
    "            \n",
    "            loss = criterion(outputs, labels)\n",
    "\n",
    "            running_loss += loss.item() * inputs.size(0)\n",
    "\n",
    "    test_loss = math.sqrt(running_loss / len(dataloader.dataset))\n",
    "    print(f'Test RMSE: {test_loss:.4f}')\n",
    "    return test_loss\n",
    "\n",
    "def get_predictions(model, dataloader, device)-> tuple[torch.Tensor, torch.Tensor]:\n",
    "    \"\"\"\n",
    "    Get predictions from the model.\n",
    "\n",
    "    Args:\n",
    "        model (nn.Module): The trained model.\n",
    "        dataloader (DataLoader): The data loader.\n",
    "\n",
    "    Returns:\n",
    "        tuple: A tuple (predictions, labels) where:\n",
    "            predictions (torch.Tensor): Predictions from the model.\n",
    "            labels (torch.Tensor): Ground truth labels.\n",
    "    \"\"\"\n",
    "    model.eval()  # Set the model to evaluation mode\n",
    "    model.to(device)\n",
    "    predictions = []\n",
    "    labels = []\n",
    "\n",
    "    with torch.no_grad():  # Disable gradient calculation\n",
    "        for inputs, target in dataloader:\n",
    "            outputs, _ = model(inputs.to(device))\n",
    "            predictions.append(outputs)\n",
    "            labels.append(target)\n",
    "\n",
    "    #move to cpu and concatenate\n",
    "    predictions = torch.cat(predictions).cpu()\n",
    "    labels = torch.cat(labels).cpu()\n",
    "\n",
    "    return predictions, labels\n",
    "\n",
    "def get_regression_errors(tuple: tuple[torch.Tensor, torch.Tensor]) -> tuple[torch.Tensor, torch.Tensor]:\n",
    "    \"\"\"\n",
    "    Get regression errors.\n",
    "\n",
    "    Args:\n",
    "        tuple: A tuple (predictions, labels) where:\n",
    "            predictions (torch.Tensor): Predictions from the model.\n",
    "            labels (torch.Tensor): Ground truth labels.\n",
    "\n",
    "    Returns:\n",
    "        tuple: A tuple (quality_errors, authenticity_errors) where:\n",
    "            quality_errors (torch.Tensor): Quality errors.\n",
    "            authenticity_errors (torch.Tensor): Authenticity errors.\n",
    "    \"\"\"\n",
    "    predictions, labels = tuple\n",
    "    quality_errors = predictions[:, 0] - labels[:, 0]\n",
    "    authenticity_errors = predictions[:, 1] - labels[:, 1]\n",
    "    return quality_errors, authenticity_errors\n",
    "\n",
    "def get_rmse(errors: torch.Tensor) -> torch.Tensor:\n",
    "    \"\"\"\n",
    "    Get the root mean squared error.\n",
    "\n",
    "    Args:\n",
    "        errors (torch.Tensor): Errors.\n",
    "\n",
    "    Returns:\n",
    "        torch.Tensor: Root mean squared error.\n",
    "    \"\"\"\n",
    "    return torch.sqrt(torch.mean(errors ** 2))\n"
   ]
  },
  {
   "cell_type": "markdown",
   "metadata": {},
   "source": [
    "## Training section"
   ]
  },
  {
   "cell_type": "code",
   "execution_count": 5,
   "metadata": {},
   "outputs": [
    {
     "name": "stdout",
     "output_type": "stream",
     "text": [
      "Median quality score:  50.75346775059262\n",
      "Median quality score:  50.75346775059262\n",
      "Low quality dataset: 1200\n",
      "High quality dataset: 1200\n"
     ]
    }
   ],
   "source": [
    "device = torch.device('cuda' if torch.cuda.is_available() else 'cpu')\n",
    "\n",
    "# Data transformations for the ImageNet dataset\n",
    "data_transforms = transforms.Compose([\n",
    "    transforms.Resize(256),\n",
    "    transforms.CenterCrop(224),\n",
    "    transforms.ToTensor(),\n",
    "    transforms.Normalize([0.485, 0.456, 0.406], [0.229, 0.224, 0.225])\n",
    "])\n",
    "\n",
    "annotations_file = 'Dataset/AIGCIQA2023/mos_data.csv'\n",
    "\n",
    "# Create the dataset\n",
    "low_quality_dataset = ImageQualityDataset(csv_file=annotations_file, transform=data_transforms, quality='low')\n",
    "high_quality_dataset = ImageQualityDataset(csv_file=annotations_file, transform=data_transforms, quality='high')\n",
    "\n",
    "# # Set random seeds for reproducibility\n",
    "# torch.manual_seed(42)\n",
    "# torch.cuda.manual_seed(42)\n",
    "# np.random.seed(42)\n",
    "\n",
    "# LOW QUALITY: Split the dataset into training, validation, and test sets\n",
    "low_train_size = int(0.7 * len(low_quality_dataset))\n",
    "low_val_size = int(0.2 * len(low_quality_dataset))\n",
    "test_size = len(low_quality_dataset) - low_train_size - low_val_size\n",
    "low_train_dataset, low_val_dataset, low_test_dataset = random_split(low_quality_dataset, [low_train_size, low_val_size, test_size])\n",
    "\n",
    "# HIGH QUALITY: Split the dataset into training, validation, and test sets\n",
    "high_train_size = int(0.7 * len(high_quality_dataset))\n",
    "high_val_size = int(0.2 * len(high_quality_dataset))\n",
    "test_size = len(high_quality_dataset) - high_train_size - high_val_size\n",
    "hihg_train_dataset, hihg_val_dataset, hihg_test_dataset = random_split(high_quality_dataset, [high_train_size, high_val_size, test_size])\n",
    "\n",
    "# print sizes of the datasets\n",
    "print(f'Low quality dataset: {len(low_quality_dataset)}')\n",
    "print(f'High quality dataset: {len(high_quality_dataset)}')\n",
    "\n",
    "\n",
    "# Create data loaders\n",
    "BATCH_SIZE = 64\n",
    "MIN_EPOCHS = 20\n",
    "MAX_EPOCHS = 100\n",
    "PATIENCE = 10\n",
    "\n",
    "# Low quality data loaders\n",
    "low_train_dataloader = DataLoader(low_train_dataset, batch_size=BATCH_SIZE, shuffle=True, num_workers=0)\n",
    "low_val_dataloader = DataLoader(low_val_dataset, batch_size=BATCH_SIZE, shuffle=False, num_workers=0)\n",
    "low_test_dataloader = DataLoader(low_test_dataset, batch_size=BATCH_SIZE, shuffle=False, num_workers=0)\n",
    "\n",
    "# High quality data loaders\n",
    "high_train_dataloader = DataLoader(hihg_train_dataset, batch_size=BATCH_SIZE, shuffle=True, num_workers=0)\n",
    "high_val_dataloader = DataLoader(hihg_val_dataset, batch_size=BATCH_SIZE, shuffle=False, num_workers=0)\n",
    "high_test_dataloader = DataLoader(hihg_test_dataset, batch_size=BATCH_SIZE, shuffle=False, num_workers=0)\n",
    "\n",
    "\n",
    "# Create a dictionary containing the data loaders\n",
    "low_dataloaders = {\n",
    "    'train': low_train_dataloader,\n",
    "    'val': low_val_dataloader,\n",
    "    'test': low_test_dataloader\n",
    "}\n",
    "\n",
    "high_dataloaders = {\n",
    "    'train': high_train_dataloader,\n",
    "    'val': high_val_dataloader,\n",
    "    'test': high_test_dataloader\n",
    "}\n",
    "\n",
    "\n",
    "model = QualityPredictor()\n",
    "criterion = nn.MSELoss()  # Mean Squared Error Loss (regression)\n",
    "optimizer = optim.Adam(model.regression_head.parameters(), lr=0.001)\n"
   ]
  },
  {
   "cell_type": "markdown",
   "metadata": {},
   "source": [
    "## Train "
   ]
  },
  {
   "cell_type": "code",
   "execution_count": 6,
   "metadata": {},
   "outputs": [
    {
     "name": "stdout",
     "output_type": "stream",
     "text": [
      "Training on cuda\n",
      "Minimum epochs: 20, Maximum epochs: 100\n",
      "Early stopping patience: 10\n",
      "Epoch 1/100\n",
      "----------------------------------------\n"
     ]
    },
    {
     "name": "stderr",
     "output_type": "stream",
     "text": [
      "Train: 100%|██████████| 14/14 [00:08<00:00,  1.63it/s, loss=245]   \n"
     ]
    },
    {
     "name": "stdout",
     "output_type": "stream",
     "text": [
      "Train Loss: 772.0384\n"
     ]
    },
    {
     "name": "stderr",
     "output_type": "stream",
     "text": [
      "Val: 100%|██████████| 4/4 [00:03<00:00,  1.30it/s, loss=72.5]\n"
     ]
    },
    {
     "name": "stdout",
     "output_type": "stream",
     "text": [
      "Val Loss: 97.5860\n",
      "New best validation loss: 97.5860\n",
      "\n",
      "Epoch 2/100\n",
      "----------------------------------------\n"
     ]
    },
    {
     "name": "stderr",
     "output_type": "stream",
     "text": [
      "Train: 100%|██████████| 14/14 [00:10<00:00,  1.33it/s, loss=105]\n"
     ]
    },
    {
     "name": "stdout",
     "output_type": "stream",
     "text": [
      "Train Loss: 173.8499\n"
     ]
    },
    {
     "name": "stderr",
     "output_type": "stream",
     "text": [
      "Val: 100%|██████████| 4/4 [00:02<00:00,  1.74it/s, loss=61.2]\n"
     ]
    },
    {
     "name": "stdout",
     "output_type": "stream",
     "text": [
      "Val Loss: 82.3747\n",
      "New best validation loss: 82.3747\n",
      "\n",
      "Epoch 3/100\n",
      "----------------------------------------\n"
     ]
    },
    {
     "name": "stderr",
     "output_type": "stream",
     "text": [
      "Train: 100%|██████████| 14/14 [00:08<00:00,  1.70it/s, loss=106]\n"
     ]
    },
    {
     "name": "stdout",
     "output_type": "stream",
     "text": [
      "Train Loss: 115.6889\n"
     ]
    },
    {
     "name": "stderr",
     "output_type": "stream",
     "text": [
      "Val: 100%|██████████| 4/4 [00:02<00:00,  1.73it/s, loss=117]\n"
     ]
    },
    {
     "name": "stdout",
     "output_type": "stream",
     "text": [
      "Val Loss: 148.0732\n",
      "No improvement for 1 epochs\n",
      "\n",
      "Epoch 4/100\n",
      "----------------------------------------\n"
     ]
    },
    {
     "name": "stderr",
     "output_type": "stream",
     "text": [
      "Train: 100%|██████████| 14/14 [00:09<00:00,  1.40it/s, loss=82.8]\n"
     ]
    },
    {
     "name": "stdout",
     "output_type": "stream",
     "text": [
      "Train Loss: 97.8609\n"
     ]
    },
    {
     "name": "stderr",
     "output_type": "stream",
     "text": [
      "Val: 100%|██████████| 4/4 [00:03<00:00,  1.25it/s, loss=70]  \n"
     ]
    },
    {
     "name": "stdout",
     "output_type": "stream",
     "text": [
      "Val Loss: 92.9350\n",
      "No improvement for 2 epochs\n",
      "\n",
      "Epoch 5/100\n",
      "----------------------------------------\n"
     ]
    },
    {
     "name": "stderr",
     "output_type": "stream",
     "text": [
      "Train: 100%|██████████| 14/14 [00:08<00:00,  1.56it/s, loss=72.1]\n"
     ]
    },
    {
     "name": "stdout",
     "output_type": "stream",
     "text": [
      "Train Loss: 90.1079\n"
     ]
    },
    {
     "name": "stderr",
     "output_type": "stream",
     "text": [
      "Val: 100%|██████████| 4/4 [00:02<00:00,  1.73it/s, loss=74.8]\n"
     ]
    },
    {
     "name": "stdout",
     "output_type": "stream",
     "text": [
      "Val Loss: 98.9101\n",
      "No improvement for 3 epochs\n",
      "\n",
      "Epoch 6/100\n",
      "----------------------------------------\n"
     ]
    },
    {
     "name": "stderr",
     "output_type": "stream",
     "text": [
      "Train: 100%|██████████| 14/14 [00:08<00:00,  1.71it/s, loss=87]  \n"
     ]
    },
    {
     "name": "stdout",
     "output_type": "stream",
     "text": [
      "Train Loss: 90.5598\n"
     ]
    },
    {
     "name": "stderr",
     "output_type": "stream",
     "text": [
      "Val: 100%|██████████| 4/4 [00:02<00:00,  1.71it/s, loss=71]  \n"
     ]
    },
    {
     "name": "stdout",
     "output_type": "stream",
     "text": [
      "Val Loss: 95.0963\n",
      "No improvement for 4 epochs\n",
      "\n",
      "Epoch 7/100\n",
      "----------------------------------------\n"
     ]
    },
    {
     "name": "stderr",
     "output_type": "stream",
     "text": [
      "Train: 100%|██████████| 14/14 [00:10<00:00,  1.31it/s, loss=82.9]\n"
     ]
    },
    {
     "name": "stdout",
     "output_type": "stream",
     "text": [
      "Train Loss: 88.2463\n"
     ]
    },
    {
     "name": "stderr",
     "output_type": "stream",
     "text": [
      "Val: 100%|██████████| 4/4 [00:02<00:00,  1.48it/s, loss=68.1]\n"
     ]
    },
    {
     "name": "stdout",
     "output_type": "stream",
     "text": [
      "Val Loss: 92.6939\n",
      "No improvement for 5 epochs\n",
      "\n",
      "Epoch 8/100\n",
      "----------------------------------------\n"
     ]
    },
    {
     "name": "stderr",
     "output_type": "stream",
     "text": [
      "Train: 100%|██████████| 14/14 [00:08<00:00,  1.71it/s, loss=19.1]\n"
     ]
    },
    {
     "name": "stdout",
     "output_type": "stream",
     "text": [
      "Train Loss: 79.6841\n"
     ]
    },
    {
     "name": "stderr",
     "output_type": "stream",
     "text": [
      "Val: 100%|██████████| 4/4 [00:02<00:00,  1.73it/s, loss=68.4]\n"
     ]
    },
    {
     "name": "stdout",
     "output_type": "stream",
     "text": [
      "Val Loss: 93.0185\n",
      "No improvement for 6 epochs\n",
      "\n",
      "Epoch 9/100\n",
      "----------------------------------------\n"
     ]
    },
    {
     "name": "stderr",
     "output_type": "stream",
     "text": [
      "Train: 100%|██████████| 14/14 [00:08<00:00,  1.71it/s, loss=157] \n"
     ]
    },
    {
     "name": "stdout",
     "output_type": "stream",
     "text": [
      "Train Loss: 75.3702\n"
     ]
    },
    {
     "name": "stderr",
     "output_type": "stream",
     "text": [
      "Val: 100%|██████████| 4/4 [00:02<00:00,  1.73it/s, loss=56.1]\n"
     ]
    },
    {
     "name": "stdout",
     "output_type": "stream",
     "text": [
      "Val Loss: 78.3595\n",
      "New best validation loss: 78.3595\n",
      "\n",
      "Epoch 10/100\n",
      "----------------------------------------\n"
     ]
    },
    {
     "name": "stderr",
     "output_type": "stream",
     "text": [
      "Train: 100%|██████████| 14/14 [00:08<00:00,  1.62it/s, loss=73.6]\n"
     ]
    },
    {
     "name": "stdout",
     "output_type": "stream",
     "text": [
      "Train Loss: 83.0490\n"
     ]
    },
    {
     "name": "stderr",
     "output_type": "stream",
     "text": [
      "Val: 100%|██████████| 4/4 [00:02<00:00,  1.65it/s, loss=71.2]\n"
     ]
    },
    {
     "name": "stdout",
     "output_type": "stream",
     "text": [
      "Val Loss: 94.8385\n",
      "No improvement for 1 epochs\n",
      "\n",
      "Epoch 11/100\n",
      "----------------------------------------\n"
     ]
    },
    {
     "name": "stderr",
     "output_type": "stream",
     "text": [
      "Train: 100%|██████████| 14/14 [00:08<00:00,  1.71it/s, loss=44.8]\n"
     ]
    },
    {
     "name": "stdout",
     "output_type": "stream",
     "text": [
      "Train Loss: 76.9230\n"
     ]
    },
    {
     "name": "stderr",
     "output_type": "stream",
     "text": [
      "Val: 100%|██████████| 4/4 [00:02<00:00,  1.73it/s, loss=64.4]\n"
     ]
    },
    {
     "name": "stdout",
     "output_type": "stream",
     "text": [
      "Val Loss: 86.5718\n",
      "No improvement for 2 epochs\n",
      "\n",
      "Epoch 12/100\n",
      "----------------------------------------\n"
     ]
    },
    {
     "name": "stderr",
     "output_type": "stream",
     "text": [
      "Train: 100%|██████████| 14/14 [00:08<00:00,  1.71it/s, loss=86.3]\n"
     ]
    },
    {
     "name": "stdout",
     "output_type": "stream",
     "text": [
      "Train Loss: 69.9972\n"
     ]
    },
    {
     "name": "stderr",
     "output_type": "stream",
     "text": [
      "Val: 100%|██████████| 4/4 [00:02<00:00,  1.47it/s, loss=70.2]\n"
     ]
    },
    {
     "name": "stdout",
     "output_type": "stream",
     "text": [
      "Val Loss: 91.0809\n",
      "No improvement for 3 epochs\n",
      "\n",
      "Epoch 13/100\n",
      "----------------------------------------\n"
     ]
    },
    {
     "name": "stderr",
     "output_type": "stream",
     "text": [
      "Train: 100%|██████████| 14/14 [00:10<00:00,  1.29it/s, loss=38.3]\n"
     ]
    },
    {
     "name": "stdout",
     "output_type": "stream",
     "text": [
      "Train Loss: 73.0510\n"
     ]
    },
    {
     "name": "stderr",
     "output_type": "stream",
     "text": [
      "Val: 100%|██████████| 4/4 [00:03<00:00,  1.28it/s, loss=73.3]\n"
     ]
    },
    {
     "name": "stdout",
     "output_type": "stream",
     "text": [
      "Val Loss: 93.1309\n",
      "No improvement for 4 epochs\n",
      "\n",
      "Epoch 14/100\n",
      "----------------------------------------\n"
     ]
    },
    {
     "name": "stderr",
     "output_type": "stream",
     "text": [
      "Train: 100%|██████████| 14/14 [00:09<00:00,  1.46it/s, loss=13.7]\n"
     ]
    },
    {
     "name": "stdout",
     "output_type": "stream",
     "text": [
      "Train Loss: 72.1081\n"
     ]
    },
    {
     "name": "stderr",
     "output_type": "stream",
     "text": [
      "Val: 100%|██████████| 4/4 [00:02<00:00,  1.63it/s, loss=68.1]\n"
     ]
    },
    {
     "name": "stdout",
     "output_type": "stream",
     "text": [
      "Val Loss: 86.9648\n",
      "No improvement for 5 epochs\n",
      "\n",
      "Epoch 15/100\n",
      "----------------------------------------\n"
     ]
    },
    {
     "name": "stderr",
     "output_type": "stream",
     "text": [
      "Train: 100%|██████████| 14/14 [00:08<00:00,  1.71it/s, loss=104] \n"
     ]
    },
    {
     "name": "stdout",
     "output_type": "stream",
     "text": [
      "Train Loss: 71.7018\n"
     ]
    },
    {
     "name": "stderr",
     "output_type": "stream",
     "text": [
      "Val: 100%|██████████| 4/4 [00:02<00:00,  1.73it/s, loss=66.9]\n"
     ]
    },
    {
     "name": "stdout",
     "output_type": "stream",
     "text": [
      "Val Loss: 86.3793\n",
      "No improvement for 6 epochs\n",
      "\n",
      "Epoch 16/100\n",
      "----------------------------------------\n"
     ]
    },
    {
     "name": "stderr",
     "output_type": "stream",
     "text": [
      "Train: 100%|██████████| 14/14 [00:08<00:00,  1.71it/s, loss=50.2]\n"
     ]
    },
    {
     "name": "stdout",
     "output_type": "stream",
     "text": [
      "Train Loss: 66.8375\n"
     ]
    },
    {
     "name": "stderr",
     "output_type": "stream",
     "text": [
      "Val: 100%|██████████| 4/4 [00:02<00:00,  1.72it/s, loss=59]  \n"
     ]
    },
    {
     "name": "stdout",
     "output_type": "stream",
     "text": [
      "Val Loss: 78.9129\n",
      "No improvement for 7 epochs\n",
      "\n",
      "Epoch 17/100\n",
      "----------------------------------------\n"
     ]
    },
    {
     "name": "stderr",
     "output_type": "stream",
     "text": [
      "Train: 100%|██████████| 14/14 [00:10<00:00,  1.29it/s, loss=142] \n"
     ]
    },
    {
     "name": "stdout",
     "output_type": "stream",
     "text": [
      "Train Loss: 70.5069\n"
     ]
    },
    {
     "name": "stderr",
     "output_type": "stream",
     "text": [
      "Val: 100%|██████████| 4/4 [00:02<00:00,  1.63it/s, loss=74.2]\n"
     ]
    },
    {
     "name": "stdout",
     "output_type": "stream",
     "text": [
      "Val Loss: 96.2483\n",
      "No improvement for 8 epochs\n",
      "\n",
      "Epoch 18/100\n",
      "----------------------------------------\n"
     ]
    },
    {
     "name": "stderr",
     "output_type": "stream",
     "text": [
      "Train: 100%|██████████| 14/14 [00:08<00:00,  1.67it/s, loss=87.2]\n"
     ]
    },
    {
     "name": "stdout",
     "output_type": "stream",
     "text": [
      "Train Loss: 74.6753\n"
     ]
    },
    {
     "name": "stderr",
     "output_type": "stream",
     "text": [
      "Val: 100%|██████████| 4/4 [00:02<00:00,  1.73it/s, loss=67.1]\n"
     ]
    },
    {
     "name": "stdout",
     "output_type": "stream",
     "text": [
      "Val Loss: 86.6641\n",
      "No improvement for 9 epochs\n",
      "\n",
      "Epoch 19/100\n",
      "----------------------------------------\n"
     ]
    },
    {
     "name": "stderr",
     "output_type": "stream",
     "text": [
      "Train: 100%|██████████| 14/14 [00:08<00:00,  1.70it/s, loss=64.3]\n"
     ]
    },
    {
     "name": "stdout",
     "output_type": "stream",
     "text": [
      "Train Loss: 64.7977\n"
     ]
    },
    {
     "name": "stderr",
     "output_type": "stream",
     "text": [
      "Val: 100%|██████████| 4/4 [00:02<00:00,  1.73it/s, loss=57.2]\n"
     ]
    },
    {
     "name": "stdout",
     "output_type": "stream",
     "text": [
      "Val Loss: 77.3808\n",
      "New best validation loss: 77.3808\n",
      "\n",
      "Epoch 20/100\n",
      "----------------------------------------\n"
     ]
    },
    {
     "name": "stderr",
     "output_type": "stream",
     "text": [
      "Train: 100%|██████████| 14/14 [00:08<00:00,  1.71it/s, loss=80.6]\n"
     ]
    },
    {
     "name": "stdout",
     "output_type": "stream",
     "text": [
      "Train Loss: 67.1610\n"
     ]
    },
    {
     "name": "stderr",
     "output_type": "stream",
     "text": [
      "Val: 100%|██████████| 4/4 [00:02<00:00,  1.71it/s, loss=55]  \n"
     ]
    },
    {
     "name": "stdout",
     "output_type": "stream",
     "text": [
      "Val Loss: 76.7848\n",
      "New best validation loss: 76.7848\n",
      "\n",
      "Epoch 21/100\n",
      "----------------------------------------\n"
     ]
    },
    {
     "name": "stderr",
     "output_type": "stream",
     "text": [
      "Train: 100%|██████████| 14/14 [00:11<00:00,  1.26it/s, loss=61.6]\n"
     ]
    },
    {
     "name": "stdout",
     "output_type": "stream",
     "text": [
      "Train Loss: 69.0551\n"
     ]
    },
    {
     "name": "stderr",
     "output_type": "stream",
     "text": [
      "Val: 100%|██████████| 4/4 [00:03<00:00,  1.28it/s, loss=68.7]\n"
     ]
    },
    {
     "name": "stdout",
     "output_type": "stream",
     "text": [
      "Val Loss: 91.6393\n",
      "No improvement for 1 epochs\n",
      "\n",
      "Epoch 22/100\n",
      "----------------------------------------\n"
     ]
    },
    {
     "name": "stderr",
     "output_type": "stream",
     "text": [
      "Train: 100%|██████████| 14/14 [00:09<00:00,  1.53it/s, loss=39.9]\n"
     ]
    },
    {
     "name": "stdout",
     "output_type": "stream",
     "text": [
      "Train Loss: 66.7575\n"
     ]
    },
    {
     "name": "stderr",
     "output_type": "stream",
     "text": [
      "Val: 100%|██████████| 4/4 [00:02<00:00,  1.72it/s, loss=56.6]\n"
     ]
    },
    {
     "name": "stdout",
     "output_type": "stream",
     "text": [
      "Val Loss: 77.9029\n",
      "No improvement for 2 epochs\n",
      "\n",
      "Epoch 23/100\n",
      "----------------------------------------\n"
     ]
    },
    {
     "name": "stderr",
     "output_type": "stream",
     "text": [
      "Train: 100%|██████████| 14/14 [00:08<00:00,  1.67it/s, loss=63.3]\n"
     ]
    },
    {
     "name": "stdout",
     "output_type": "stream",
     "text": [
      "Train Loss: 68.6612\n"
     ]
    },
    {
     "name": "stderr",
     "output_type": "stream",
     "text": [
      "Val: 100%|██████████| 4/4 [00:02<00:00,  1.73it/s, loss=60.9]\n"
     ]
    },
    {
     "name": "stdout",
     "output_type": "stream",
     "text": [
      "Val Loss: 81.3126\n",
      "No improvement for 3 epochs\n",
      "\n",
      "Epoch 24/100\n",
      "----------------------------------------\n"
     ]
    },
    {
     "name": "stderr",
     "output_type": "stream",
     "text": [
      "Train: 100%|██████████| 14/14 [00:09<00:00,  1.43it/s, loss=96.5]\n"
     ]
    },
    {
     "name": "stdout",
     "output_type": "stream",
     "text": [
      "Train Loss: 67.2608\n"
     ]
    },
    {
     "name": "stderr",
     "output_type": "stream",
     "text": [
      "Val: 100%|██████████| 4/4 [00:03<00:00,  1.28it/s, loss=66.6]\n"
     ]
    },
    {
     "name": "stdout",
     "output_type": "stream",
     "text": [
      "Val Loss: 87.6780\n",
      "No improvement for 4 epochs\n",
      "\n",
      "Epoch 25/100\n",
      "----------------------------------------\n"
     ]
    },
    {
     "name": "stderr",
     "output_type": "stream",
     "text": [
      "Train: 100%|██████████| 14/14 [00:10<00:00,  1.32it/s, loss=107] \n"
     ]
    },
    {
     "name": "stdout",
     "output_type": "stream",
     "text": [
      "Train Loss: 69.3214\n"
     ]
    },
    {
     "name": "stderr",
     "output_type": "stream",
     "text": [
      "Val: 100%|██████████| 4/4 [00:02<00:00,  1.71it/s, loss=65.8]\n"
     ]
    },
    {
     "name": "stdout",
     "output_type": "stream",
     "text": [
      "Val Loss: 88.1979\n",
      "No improvement for 5 epochs\n",
      "\n",
      "Epoch 26/100\n",
      "----------------------------------------\n"
     ]
    },
    {
     "name": "stderr",
     "output_type": "stream",
     "text": [
      "Train: 100%|██████████| 14/14 [00:08<00:00,  1.70it/s, loss=43.7]\n"
     ]
    },
    {
     "name": "stdout",
     "output_type": "stream",
     "text": [
      "Train Loss: 64.6199\n"
     ]
    },
    {
     "name": "stderr",
     "output_type": "stream",
     "text": [
      "Val: 100%|██████████| 4/4 [00:02<00:00,  1.62it/s, loss=56.3]\n"
     ]
    },
    {
     "name": "stdout",
     "output_type": "stream",
     "text": [
      "Val Loss: 76.4276\n",
      "New best validation loss: 76.4276\n",
      "\n",
      "Epoch 27/100\n",
      "----------------------------------------\n"
     ]
    },
    {
     "name": "stderr",
     "output_type": "stream",
     "text": [
      "Train: 100%|██████████| 14/14 [00:08<00:00,  1.70it/s, loss=64.1]\n"
     ]
    },
    {
     "name": "stdout",
     "output_type": "stream",
     "text": [
      "Train Loss: 68.5039\n"
     ]
    },
    {
     "name": "stderr",
     "output_type": "stream",
     "text": [
      "Val: 100%|██████████| 4/4 [00:03<00:00,  1.28it/s, loss=67]  \n"
     ]
    },
    {
     "name": "stdout",
     "output_type": "stream",
     "text": [
      "Val Loss: 86.9628\n",
      "No improvement for 1 epochs\n",
      "\n",
      "Epoch 28/100\n",
      "----------------------------------------\n"
     ]
    },
    {
     "name": "stderr",
     "output_type": "stream",
     "text": [
      "Train: 100%|██████████| 14/14 [00:11<00:00,  1.27it/s, loss=36]  \n"
     ]
    },
    {
     "name": "stdout",
     "output_type": "stream",
     "text": [
      "Train Loss: 68.8777\n"
     ]
    },
    {
     "name": "stderr",
     "output_type": "stream",
     "text": [
      "Val: 100%|██████████| 4/4 [00:03<00:00,  1.28it/s, loss=54.9]\n"
     ]
    },
    {
     "name": "stdout",
     "output_type": "stream",
     "text": [
      "Val Loss: 73.6074\n",
      "New best validation loss: 73.6074\n",
      "\n",
      "Epoch 29/100\n",
      "----------------------------------------\n"
     ]
    },
    {
     "name": "stderr",
     "output_type": "stream",
     "text": [
      "Train: 100%|██████████| 14/14 [00:08<00:00,  1.66it/s, loss=59.2]\n"
     ]
    },
    {
     "name": "stdout",
     "output_type": "stream",
     "text": [
      "Train Loss: 69.0760\n"
     ]
    },
    {
     "name": "stderr",
     "output_type": "stream",
     "text": [
      "Val: 100%|██████████| 4/4 [00:02<00:00,  1.71it/s, loss=66.2]\n"
     ]
    },
    {
     "name": "stdout",
     "output_type": "stream",
     "text": [
      "Val Loss: 85.8594\n",
      "No improvement for 1 epochs\n",
      "\n",
      "Epoch 30/100\n",
      "----------------------------------------\n"
     ]
    },
    {
     "name": "stderr",
     "output_type": "stream",
     "text": [
      "Train: 100%|██████████| 14/14 [00:08<00:00,  1.67it/s, loss=79]  \n"
     ]
    },
    {
     "name": "stdout",
     "output_type": "stream",
     "text": [
      "Train Loss: 62.2144\n"
     ]
    },
    {
     "name": "stderr",
     "output_type": "stream",
     "text": [
      "Val: 100%|██████████| 4/4 [00:03<00:00,  1.27it/s, loss=64.2]\n"
     ]
    },
    {
     "name": "stdout",
     "output_type": "stream",
     "text": [
      "Val Loss: 81.5248\n",
      "No improvement for 2 epochs\n",
      "\n",
      "Epoch 31/100\n",
      "----------------------------------------\n"
     ]
    },
    {
     "name": "stderr",
     "output_type": "stream",
     "text": [
      "Train: 100%|██████████| 14/14 [00:10<00:00,  1.31it/s, loss=99.3]\n"
     ]
    },
    {
     "name": "stdout",
     "output_type": "stream",
     "text": [
      "Train Loss: 60.4023\n"
     ]
    },
    {
     "name": "stderr",
     "output_type": "stream",
     "text": [
      "Val: 100%|██████████| 4/4 [00:02<00:00,  1.70it/s, loss=65.7]\n"
     ]
    },
    {
     "name": "stdout",
     "output_type": "stream",
     "text": [
      "Val Loss: 84.9953\n",
      "No improvement for 3 epochs\n",
      "\n",
      "Epoch 32/100\n",
      "----------------------------------------\n"
     ]
    },
    {
     "name": "stderr",
     "output_type": "stream",
     "text": [
      "Train: 100%|██████████| 14/14 [00:08<00:00,  1.71it/s, loss=20.4]\n"
     ]
    },
    {
     "name": "stdout",
     "output_type": "stream",
     "text": [
      "Train Loss: 63.2352\n"
     ]
    },
    {
     "name": "stderr",
     "output_type": "stream",
     "text": [
      "Val: 100%|██████████| 4/4 [00:02<00:00,  1.74it/s, loss=63.6]\n"
     ]
    },
    {
     "name": "stdout",
     "output_type": "stream",
     "text": [
      "Val Loss: 84.0526\n",
      "No improvement for 4 epochs\n",
      "\n",
      "Epoch 33/100\n",
      "----------------------------------------\n"
     ]
    },
    {
     "name": "stderr",
     "output_type": "stream",
     "text": [
      "Train: 100%|██████████| 14/14 [00:08<00:00,  1.66it/s, loss=143] \n"
     ]
    },
    {
     "name": "stdout",
     "output_type": "stream",
     "text": [
      "Train Loss: 64.2125\n"
     ]
    },
    {
     "name": "stderr",
     "output_type": "stream",
     "text": [
      "Val: 100%|██████████| 4/4 [00:03<00:00,  1.28it/s, loss=58.2]\n"
     ]
    },
    {
     "name": "stdout",
     "output_type": "stream",
     "text": [
      "Val Loss: 76.6271\n",
      "No improvement for 5 epochs\n",
      "\n",
      "Epoch 34/100\n",
      "----------------------------------------\n"
     ]
    },
    {
     "name": "stderr",
     "output_type": "stream",
     "text": [
      "Train: 100%|██████████| 14/14 [00:11<00:00,  1.26it/s, loss=13.5]\n"
     ]
    },
    {
     "name": "stdout",
     "output_type": "stream",
     "text": [
      "Train Loss: 62.4988\n"
     ]
    },
    {
     "name": "stderr",
     "output_type": "stream",
     "text": [
      "Val: 100%|██████████| 4/4 [00:03<00:00,  1.28it/s, loss=59.9]\n"
     ]
    },
    {
     "name": "stdout",
     "output_type": "stream",
     "text": [
      "Val Loss: 79.1012\n",
      "No improvement for 6 epochs\n",
      "\n",
      "Epoch 35/100\n",
      "----------------------------------------\n"
     ]
    },
    {
     "name": "stderr",
     "output_type": "stream",
     "text": [
      "Train: 100%|██████████| 14/14 [00:08<00:00,  1.60it/s, loss=52.5]\n"
     ]
    },
    {
     "name": "stdout",
     "output_type": "stream",
     "text": [
      "Train Loss: 67.4985\n"
     ]
    },
    {
     "name": "stderr",
     "output_type": "stream",
     "text": [
      "Val: 100%|██████████| 4/4 [00:02<00:00,  1.70it/s, loss=60.9]\n"
     ]
    },
    {
     "name": "stdout",
     "output_type": "stream",
     "text": [
      "Val Loss: 83.0261\n",
      "No improvement for 7 epochs\n",
      "\n",
      "Epoch 36/100\n",
      "----------------------------------------\n"
     ]
    },
    {
     "name": "stderr",
     "output_type": "stream",
     "text": [
      "Train: 100%|██████████| 14/14 [00:08<00:00,  1.70it/s, loss=67.8]\n"
     ]
    },
    {
     "name": "stdout",
     "output_type": "stream",
     "text": [
      "Train Loss: 67.1270\n"
     ]
    },
    {
     "name": "stderr",
     "output_type": "stream",
     "text": [
      "Val: 100%|██████████| 4/4 [00:03<00:00,  1.27it/s, loss=64]  \n"
     ]
    },
    {
     "name": "stdout",
     "output_type": "stream",
     "text": [
      "Val Loss: 86.2728\n",
      "No improvement for 8 epochs\n",
      "\n",
      "Epoch 37/100\n",
      "----------------------------------------\n"
     ]
    },
    {
     "name": "stderr",
     "output_type": "stream",
     "text": [
      "Train: 100%|██████████| 14/14 [00:10<00:00,  1.28it/s, loss=132] \n"
     ]
    },
    {
     "name": "stdout",
     "output_type": "stream",
     "text": [
      "Train Loss: 67.3810\n"
     ]
    },
    {
     "name": "stderr",
     "output_type": "stream",
     "text": [
      "Val: 100%|██████████| 4/4 [00:02<00:00,  1.64it/s, loss=57.8]\n"
     ]
    },
    {
     "name": "stdout",
     "output_type": "stream",
     "text": [
      "Val Loss: 78.9719\n",
      "No improvement for 9 epochs\n",
      "\n",
      "Epoch 38/100\n",
      "----------------------------------------\n"
     ]
    },
    {
     "name": "stderr",
     "output_type": "stream",
     "text": [
      "Train: 100%|██████████| 14/14 [00:08<00:00,  1.70it/s, loss=80.4]\n"
     ]
    },
    {
     "name": "stdout",
     "output_type": "stream",
     "text": [
      "Train Loss: 62.3141\n"
     ]
    },
    {
     "name": "stderr",
     "output_type": "stream",
     "text": [
      "Val: 100%|██████████| 4/4 [00:02<00:00,  1.74it/s, loss=65.2]\n"
     ]
    },
    {
     "name": "stdout",
     "output_type": "stream",
     "text": [
      "Val Loss: 85.3704\n",
      "No improvement for 10 epochs\n",
      "Early stopping triggered after 38 epochs\n",
      "Training complete in 7m 26s\n",
      "Best validation loss: 73.6074\n",
      "Training on cuda\n",
      "Minimum epochs: 20, Maximum epochs: 100\n",
      "Early stopping patience: 10\n",
      "Epoch 1/100\n",
      "----------------------------------------\n"
     ]
    },
    {
     "name": "stderr",
     "output_type": "stream",
     "text": [
      "Train: 100%|██████████| 14/14 [00:08<00:00,  1.65it/s, loss=107]\n"
     ]
    },
    {
     "name": "stdout",
     "output_type": "stream",
     "text": [
      "Train Loss: 201.2418\n"
     ]
    },
    {
     "name": "stderr",
     "output_type": "stream",
     "text": [
      "Val: 100%|██████████| 4/4 [00:03<00:00,  1.26it/s, loss=169]\n"
     ]
    },
    {
     "name": "stdout",
     "output_type": "stream",
     "text": [
      "Val Loss: 215.8218\n",
      "New best validation loss: 215.8218\n",
      "\n",
      "Epoch 2/100\n",
      "----------------------------------------\n"
     ]
    },
    {
     "name": "stderr",
     "output_type": "stream",
     "text": [
      "Train: 100%|██████████| 14/14 [00:11<00:00,  1.25it/s, loss=32] \n"
     ]
    },
    {
     "name": "stdout",
     "output_type": "stream",
     "text": [
      "Train Loss: 154.3920\n"
     ]
    },
    {
     "name": "stderr",
     "output_type": "stream",
     "text": [
      "Val: 100%|██████████| 4/4 [00:03<00:00,  1.26it/s, loss=142]\n"
     ]
    },
    {
     "name": "stdout",
     "output_type": "stream",
     "text": [
      "Val Loss: 182.2839\n",
      "New best validation loss: 182.2839\n",
      "\n",
      "Epoch 3/100\n",
      "----------------------------------------\n"
     ]
    },
    {
     "name": "stderr",
     "output_type": "stream",
     "text": [
      "Train: 100%|██████████| 14/14 [00:08<00:00,  1.70it/s, loss=149]\n"
     ]
    },
    {
     "name": "stdout",
     "output_type": "stream",
     "text": [
      "Train Loss: 159.2440\n"
     ]
    },
    {
     "name": "stderr",
     "output_type": "stream",
     "text": [
      "Val: 100%|██████████| 4/4 [00:02<00:00,  1.72it/s, loss=153]\n"
     ]
    },
    {
     "name": "stdout",
     "output_type": "stream",
     "text": [
      "Val Loss: 192.7304\n",
      "No improvement for 1 epochs\n",
      "\n",
      "Epoch 4/100\n",
      "----------------------------------------\n"
     ]
    },
    {
     "name": "stderr",
     "output_type": "stream",
     "text": [
      "Train: 100%|██████████| 14/14 [00:08<00:00,  1.66it/s, loss=76.7]\n"
     ]
    },
    {
     "name": "stdout",
     "output_type": "stream",
     "text": [
      "Train Loss: 159.5146\n"
     ]
    },
    {
     "name": "stderr",
     "output_type": "stream",
     "text": [
      "Val: 100%|██████████| 4/4 [00:03<00:00,  1.26it/s, loss=144]\n"
     ]
    },
    {
     "name": "stdout",
     "output_type": "stream",
     "text": [
      "Val Loss: 173.2767\n",
      "New best validation loss: 173.2767\n",
      "\n",
      "Epoch 5/100\n",
      "----------------------------------------\n"
     ]
    },
    {
     "name": "stderr",
     "output_type": "stream",
     "text": [
      "Train: 100%|██████████| 14/14 [00:10<00:00,  1.32it/s, loss=101]\n"
     ]
    },
    {
     "name": "stdout",
     "output_type": "stream",
     "text": [
      "Train Loss: 142.3414\n"
     ]
    },
    {
     "name": "stderr",
     "output_type": "stream",
     "text": [
      "Val: 100%|██████████| 4/4 [00:02<00:00,  1.71it/s, loss=161]\n"
     ]
    },
    {
     "name": "stdout",
     "output_type": "stream",
     "text": [
      "Val Loss: 207.8588\n",
      "No improvement for 1 epochs\n",
      "\n",
      "Epoch 6/100\n",
      "----------------------------------------\n"
     ]
    },
    {
     "name": "stderr",
     "output_type": "stream",
     "text": [
      "Train: 100%|██████████| 14/14 [00:08<00:00,  1.71it/s, loss=80.1]\n"
     ]
    },
    {
     "name": "stdout",
     "output_type": "stream",
     "text": [
      "Train Loss: 153.1064\n"
     ]
    },
    {
     "name": "stderr",
     "output_type": "stream",
     "text": [
      "Val: 100%|██████████| 4/4 [00:02<00:00,  1.71it/s, loss=178]\n"
     ]
    },
    {
     "name": "stdout",
     "output_type": "stream",
     "text": [
      "Val Loss: 234.0632\n",
      "No improvement for 2 epochs\n",
      "\n",
      "Epoch 7/100\n",
      "----------------------------------------\n"
     ]
    },
    {
     "name": "stderr",
     "output_type": "stream",
     "text": [
      "Train: 100%|██████████| 14/14 [00:08<00:00,  1.67it/s, loss=76.3]\n"
     ]
    },
    {
     "name": "stdout",
     "output_type": "stream",
     "text": [
      "Train Loss: 150.6828\n"
     ]
    },
    {
     "name": "stderr",
     "output_type": "stream",
     "text": [
      "Val: 100%|██████████| 4/4 [00:03<00:00,  1.26it/s, loss=130]\n"
     ]
    },
    {
     "name": "stdout",
     "output_type": "stream",
     "text": [
      "Val Loss: 157.5953\n",
      "New best validation loss: 157.5953\n",
      "\n",
      "Epoch 8/100\n",
      "----------------------------------------\n"
     ]
    },
    {
     "name": "stderr",
     "output_type": "stream",
     "text": [
      "Train: 100%|██████████| 14/14 [00:11<00:00,  1.27it/s, loss=99.9]\n"
     ]
    },
    {
     "name": "stdout",
     "output_type": "stream",
     "text": [
      "Train Loss: 150.1623\n"
     ]
    },
    {
     "name": "stderr",
     "output_type": "stream",
     "text": [
      "Val: 100%|██████████| 4/4 [00:03<00:00,  1.26it/s, loss=151]\n"
     ]
    },
    {
     "name": "stdout",
     "output_type": "stream",
     "text": [
      "Val Loss: 193.7607\n",
      "No improvement for 1 epochs\n",
      "\n",
      "Epoch 9/100\n",
      "----------------------------------------\n"
     ]
    },
    {
     "name": "stderr",
     "output_type": "stream",
     "text": [
      "Train: 100%|██████████| 14/14 [00:08<00:00,  1.66it/s, loss=112]\n"
     ]
    },
    {
     "name": "stdout",
     "output_type": "stream",
     "text": [
      "Train Loss: 135.8416\n"
     ]
    },
    {
     "name": "stderr",
     "output_type": "stream",
     "text": [
      "Val: 100%|██████████| 4/4 [00:02<00:00,  1.71it/s, loss=143]\n"
     ]
    },
    {
     "name": "stdout",
     "output_type": "stream",
     "text": [
      "Val Loss: 180.9255\n",
      "No improvement for 2 epochs\n",
      "\n",
      "Epoch 10/100\n",
      "----------------------------------------\n"
     ]
    },
    {
     "name": "stderr",
     "output_type": "stream",
     "text": [
      "Train: 100%|██████████| 14/14 [00:08<00:00,  1.72it/s, loss=150]\n"
     ]
    },
    {
     "name": "stdout",
     "output_type": "stream",
     "text": [
      "Train Loss: 142.4029\n"
     ]
    },
    {
     "name": "stderr",
     "output_type": "stream",
     "text": [
      "Val: 100%|██████████| 4/4 [00:02<00:00,  1.73it/s, loss=154]\n"
     ]
    },
    {
     "name": "stdout",
     "output_type": "stream",
     "text": [
      "Val Loss: 195.0796\n",
      "No improvement for 3 epochs\n",
      "\n",
      "Epoch 11/100\n",
      "----------------------------------------\n"
     ]
    },
    {
     "name": "stderr",
     "output_type": "stream",
     "text": [
      "Train: 100%|██████████| 14/14 [00:11<00:00,  1.27it/s, loss=34.6]\n"
     ]
    },
    {
     "name": "stdout",
     "output_type": "stream",
     "text": [
      "Train Loss: 136.0050\n"
     ]
    },
    {
     "name": "stderr",
     "output_type": "stream",
     "text": [
      "Val: 100%|██████████| 4/4 [00:03<00:00,  1.27it/s, loss=137]\n"
     ]
    },
    {
     "name": "stdout",
     "output_type": "stream",
     "text": [
      "Val Loss: 170.0037\n",
      "No improvement for 4 epochs\n",
      "\n",
      "Epoch 12/100\n",
      "----------------------------------------\n"
     ]
    },
    {
     "name": "stderr",
     "output_type": "stream",
     "text": [
      "Train: 100%|██████████| 14/14 [00:09<00:00,  1.42it/s, loss=178]\n"
     ]
    },
    {
     "name": "stdout",
     "output_type": "stream",
     "text": [
      "Train Loss: 131.4454\n"
     ]
    },
    {
     "name": "stderr",
     "output_type": "stream",
     "text": [
      "Val: 100%|██████████| 4/4 [00:02<00:00,  1.73it/s, loss=140]\n"
     ]
    },
    {
     "name": "stdout",
     "output_type": "stream",
     "text": [
      "Val Loss: 183.2558\n",
      "No improvement for 5 epochs\n",
      "\n",
      "Epoch 13/100\n",
      "----------------------------------------\n"
     ]
    },
    {
     "name": "stderr",
     "output_type": "stream",
     "text": [
      "Train: 100%|██████████| 14/14 [00:08<00:00,  1.60it/s, loss=103]\n"
     ]
    },
    {
     "name": "stdout",
     "output_type": "stream",
     "text": [
      "Train Loss: 137.6072\n"
     ]
    },
    {
     "name": "stderr",
     "output_type": "stream",
     "text": [
      "Val: 100%|██████████| 4/4 [00:02<00:00,  1.73it/s, loss=139]\n"
     ]
    },
    {
     "name": "stdout",
     "output_type": "stream",
     "text": [
      "Val Loss: 187.0891\n",
      "No improvement for 6 epochs\n",
      "\n",
      "Epoch 14/100\n",
      "----------------------------------------\n"
     ]
    },
    {
     "name": "stderr",
     "output_type": "stream",
     "text": [
      "Train: 100%|██████████| 14/14 [00:08<00:00,  1.60it/s, loss=77.5]\n"
     ]
    },
    {
     "name": "stdout",
     "output_type": "stream",
     "text": [
      "Train Loss: 144.7259\n"
     ]
    },
    {
     "name": "stderr",
     "output_type": "stream",
     "text": [
      "Val: 100%|██████████| 4/4 [00:02<00:00,  1.72it/s, loss=125]\n"
     ]
    },
    {
     "name": "stdout",
     "output_type": "stream",
     "text": [
      "Val Loss: 166.7509\n",
      "No improvement for 7 epochs\n",
      "\n",
      "Epoch 15/100\n",
      "----------------------------------------\n"
     ]
    },
    {
     "name": "stderr",
     "output_type": "stream",
     "text": [
      "Train: 100%|██████████| 14/14 [00:08<00:00,  1.71it/s, loss=195] \n"
     ]
    },
    {
     "name": "stdout",
     "output_type": "stream",
     "text": [
      "Train Loss: 132.7549\n"
     ]
    },
    {
     "name": "stderr",
     "output_type": "stream",
     "text": [
      "Val: 100%|██████████| 4/4 [00:02<00:00,  1.73it/s, loss=130]\n"
     ]
    },
    {
     "name": "stdout",
     "output_type": "stream",
     "text": [
      "Val Loss: 171.0632\n",
      "No improvement for 8 epochs\n",
      "\n",
      "Epoch 16/100\n",
      "----------------------------------------\n"
     ]
    },
    {
     "name": "stderr",
     "output_type": "stream",
     "text": [
      "Train: 100%|██████████| 14/14 [00:08<00:00,  1.69it/s, loss=191]\n"
     ]
    },
    {
     "name": "stdout",
     "output_type": "stream",
     "text": [
      "Train Loss: 137.9278\n"
     ]
    },
    {
     "name": "stderr",
     "output_type": "stream",
     "text": [
      "Val: 100%|██████████| 4/4 [00:02<00:00,  1.71it/s, loss=134]\n"
     ]
    },
    {
     "name": "stdout",
     "output_type": "stream",
     "text": [
      "Val Loss: 178.0391\n",
      "No improvement for 9 epochs\n",
      "\n",
      "Epoch 17/100\n",
      "----------------------------------------\n"
     ]
    },
    {
     "name": "stderr",
     "output_type": "stream",
     "text": [
      "Train: 100%|██████████| 14/14 [00:10<00:00,  1.32it/s, loss=182]\n"
     ]
    },
    {
     "name": "stdout",
     "output_type": "stream",
     "text": [
      "Train Loss: 136.3490\n"
     ]
    },
    {
     "name": "stderr",
     "output_type": "stream",
     "text": [
      "Val: 100%|██████████| 4/4 [00:03<00:00,  1.26it/s, loss=126]\n"
     ]
    },
    {
     "name": "stdout",
     "output_type": "stream",
     "text": [
      "Val Loss: 167.4773\n",
      "No improvement for 10 epochs\n",
      "\n",
      "Epoch 18/100\n",
      "----------------------------------------\n"
     ]
    },
    {
     "name": "stderr",
     "output_type": "stream",
     "text": [
      "Train: 100%|██████████| 14/14 [00:10<00:00,  1.35it/s, loss=34.2]\n"
     ]
    },
    {
     "name": "stdout",
     "output_type": "stream",
     "text": [
      "Train Loss: 136.6317\n"
     ]
    },
    {
     "name": "stderr",
     "output_type": "stream",
     "text": [
      "Val: 100%|██████████| 4/4 [00:02<00:00,  1.72it/s, loss=121]\n"
     ]
    },
    {
     "name": "stdout",
     "output_type": "stream",
     "text": [
      "Val Loss: 163.5746\n",
      "No improvement for 11 epochs\n",
      "\n",
      "Epoch 19/100\n",
      "----------------------------------------\n"
     ]
    },
    {
     "name": "stderr",
     "output_type": "stream",
     "text": [
      "Train: 100%|██████████| 14/14 [00:09<00:00,  1.44it/s, loss=242]\n"
     ]
    },
    {
     "name": "stdout",
     "output_type": "stream",
     "text": [
      "Train Loss: 148.3983\n"
     ]
    },
    {
     "name": "stderr",
     "output_type": "stream",
     "text": [
      "Val: 100%|██████████| 4/4 [00:02<00:00,  1.71it/s, loss=120]\n"
     ]
    },
    {
     "name": "stdout",
     "output_type": "stream",
     "text": [
      "Val Loss: 158.7377\n",
      "No improvement for 12 epochs\n",
      "\n",
      "Epoch 20/100\n",
      "----------------------------------------\n"
     ]
    },
    {
     "name": "stderr",
     "output_type": "stream",
     "text": [
      "Train: 100%|██████████| 14/14 [00:08<00:00,  1.70it/s, loss=150]\n"
     ]
    },
    {
     "name": "stdout",
     "output_type": "stream",
     "text": [
      "Train Loss: 134.3398\n"
     ]
    },
    {
     "name": "stderr",
     "output_type": "stream",
     "text": [
      "Val: 100%|██████████| 4/4 [00:02<00:00,  1.71it/s, loss=159]\n"
     ]
    },
    {
     "name": "stdout",
     "output_type": "stream",
     "text": [
      "Val Loss: 206.8254\n",
      "No improvement for 13 epochs\n",
      "Early stopping triggered after 20 epochs\n",
      "Training complete in 3m 57s\n",
      "Best validation loss: 157.5953\n"
     ]
    }
   ],
   "source": [
    "LOW_QUALITY_MODEL_PATH = 'Models/VGG-16_low_quality_finetuned.pth'\n",
    "HIGH_QUALITY_MODEL_PATH = 'Models/VGG-16_high_quality_finetuned.pth'\n",
    "\n",
    "low_quality_predictor_trained, low_quality_training_history= train_model(model, low_dataloaders, criterion, optimizer, min_epochs=MIN_EPOCHS,max_epochs=MAX_EPOCHS, patience=PATIENCE, device=device)\n",
    "torch.save(low_quality_predictor_trained.state_dict(), LOW_QUALITY_MODEL_PATH)\n",
    "\n",
    "high_quality_predictor_trained, high_quality_training_history= train_model(model, high_dataloaders, criterion, optimizer, min_epochs=MIN_EPOCHS,max_epochs=MAX_EPOCHS, patience=PATIENCE, device=device)\n",
    "torch.save(high_quality_predictor_trained.state_dict(), HIGH_QUALITY_MODEL_PATH)\n"
   ]
  },
  {
   "cell_type": "code",
   "execution_count": 7,
   "metadata": {},
   "outputs": [
    {
     "name": "stdout",
     "output_type": "stream",
     "text": [
      "Figure saved to training_history.png\n"
     ]
    },
    {
     "data": {
      "image/png": "[encoded data removed]",
      "text/plain": [
       "<Figure size 1200x600 with 1 Axes>"
      ]
     },
     "metadata": {},
     "output_type": "display_data"
    },
    {
     "name": "stdout",
     "output_type": "stream",
     "text": [
      "Figure saved to training_history.png\n"
     ]
    },
    {
     "data": {
      "image/png": "[encoded data removed]",
      "text/plain": [
       "<Figure size 1200x600 with 1 Axes>"
      ]
     },
     "metadata": {},
     "output_type": "display_data"
    }
   ],
   "source": [
    "import matplotlib.pyplot as plt\n",
    "import numpy as np\n",
    "import pandas as pd\n",
    "import seaborn as sns\n",
    "\n",
    "def plot_training_history(history, figsize=(12, 6), save_path=None):\n",
    "    \"\"\"\n",
    "    Visualizes the training history with detailed plots and annotations.\n",
    "    \n",
    "    This function creates a comprehensive visualization of model training progress,\n",
    "    showing both training and validation losses over epochs, with annotations\n",
    "    highlighting important points in the training process.\n",
    "    \n",
    "    Args:\n",
    "        history (dict): Dictionary containing 'train_loss' and 'val_loss' lists.\n",
    "        figsize (tuple): Figure size as (width, height) in inches. Defaults to (12, 6).\n",
    "        save_path (str, optional): Path to save the figure. If None, the figure is only displayed.\n",
    "                                   Defaults to None.\n",
    "    \n",
    "    Returns:\n",
    "        matplotlib.figure.Figure: The generated figure for further customization if needed.\n",
    "    \"\"\"\n",
    "    # Set the visual style for the plots\n",
    "    sns.set_style(\"whitegrid\")\n",
    "    plt.rcParams['font.family'] = 'sans-serif'\n",
    "    \n",
    "    # Create figure and axis\n",
    "    fig, ax = plt.subplots(figsize=figsize)\n",
    "    \n",
    "    # Convert data to DataFrame for easier manipulation\n",
    "    epochs = range(1, len(history['train_loss']) + 1)\n",
    "    df = pd.DataFrame({\n",
    "        'Epoch': epochs,\n",
    "        'Training Loss': history['train_loss'],\n",
    "        'Validation Loss': history['val_loss']\n",
    "    })\n",
    "    \n",
    "    # Plot the training and validation loss\n",
    "    sns.lineplot(x='Epoch', y='Training Loss', data=df, marker='o', label='Training Loss', ax=ax)\n",
    "    sns.lineplot(x='Epoch', y='Validation Loss', data=df, marker='s', label='Validation Loss', ax=ax)\n",
    "    \n",
    "    # Find the epoch with minimum validation loss\n",
    "    min_val_loss_epoch = np.argmin(history['val_loss']) + 1\n",
    "    min_val_loss = history['val_loss'][min_val_loss_epoch - 1]\n",
    "    \n",
    "    # Highlight the best model point\n",
    "    ax.scatter(min_val_loss_epoch, min_val_loss, s=200, c='red', marker='*', \n",
    "               label=f'Best Model (Epoch {min_val_loss_epoch})', zorder=5)\n",
    "    \n",
    "    # Add annotations for key insights\n",
    "    # Calculate the gap between training and validation loss\n",
    "    final_gap = abs(history['train_loss'][-1] - history['val_loss'][-1])\n",
    "    initial_gap = abs(history['train_loss'][0] - history['val_loss'][0])\n",
    "    \n",
    "    # Calculate improvement from first to best epoch\n",
    "    improvement = (history['val_loss'][0] - min_val_loss) / history['val_loss'][0] * 100\n",
    "    \n",
    "    # Add a text box with training statistics\n",
    "    textbox_props = dict(boxstyle='round', facecolor='white', alpha=0.7)\n",
    "    stats_text = (\n",
    "        f\"Training Summary:\\n\"\n",
    "        f\"• Total Epochs: {len(epochs)}\\n\"\n",
    "        f\"• Best Epoch: {min_val_loss_epoch}\\n\"\n",
    "        f\"• Best Val Loss: {min_val_loss:.4f}\\n\"\n",
    "        f\"• Improvement: {improvement:.1f}%\\n\"\n",
    "        f\"• Final Train-Val Gap: {final_gap:.4f}\"\n",
    "    )\n",
    "    ax.text(0.02, 0.98, stats_text, transform=ax.transAxes, fontsize=10,\n",
    "            verticalalignment='top', bbox=textbox_props)\n",
    "    \n",
    "    # Add a vertical line at the best epoch\n",
    "    ax.axvline(x=min_val_loss_epoch, color='red', linestyle='--', alpha=0.3)\n",
    "    \n",
    "    # Detect potential overfitting\n",
    "    if len(epochs) > 3:  # Need enough epochs to detect a trend\n",
    "        # Check if validation loss is increasing while training loss is decreasing\n",
    "        val_trend = np.polyfit(epochs[-3:], history['val_loss'][-3:], 1)[0]\n",
    "        train_trend = np.polyfit(epochs[-3:], history['train_loss'][-3:], 1)[0]\n",
    "        \n",
    "        if val_trend > 0 and train_trend < 0:\n",
    "            ax.text(0.98, 0.02, \"⚠️ Potential Overfitting Detected\", \n",
    "                    transform=ax.transAxes, fontsize=10, color='red',\n",
    "                    verticalalignment='bottom', horizontalalignment='right',\n",
    "                    bbox=dict(boxstyle='round', facecolor='lightyellow', alpha=0.7))\n",
    "    \n",
    "    # Enhance plot formatting\n",
    "    ax.set_title('Model Training & Validation Loss Over Time', fontsize=14, fontweight='bold')\n",
    "    ax.set_xlabel('Epoch', fontsize=12)\n",
    "    ax.set_ylabel('Loss', fontsize=12)\n",
    "    \n",
    "    # Format y-axis to avoid scientific notation\n",
    "    ax.ticklabel_format(useOffset=False, style='plain')\n",
    "    \n",
    "    # Set x-axis to show integer epoch numbers\n",
    "    ax.xaxis.set_major_locator(plt.MaxNLocator(integer=True))\n",
    "    \n",
    "    # Create a more descriptive and positioned legend\n",
    "    ax.legend(loc='upper right', frameon=True, fancybox=True, shadow=True)\n",
    "    \n",
    "    # Add grid for better readability\n",
    "    ax.grid(True, linestyle='--', alpha=0.7)\n",
    "    \n",
    "    # Ensure layout fits well\n",
    "    plt.tight_layout()\n",
    "    \n",
    "    # Save figure if a path is provided\n",
    "    if save_path:\n",
    "        plt.savefig(save_path, dpi=300, bbox_inches='tight')\n",
    "        print(f\"Figure saved to {save_path}\")\n",
    "    \n",
    "    return fig\n",
    "\n",
    "\n",
    "# Plot the training history\n",
    "plot_training_history(low_quality_training_history, save_path=\"training_history.png\")\n",
    "plt.show()\n",
    "\n",
    "plot_training_history(high_quality_training_history, save_path=\"training_history.png\")\n",
    "plt.show()\n"
   ]
  },
  {
   "cell_type": "markdown",
   "metadata": {},
   "source": [
    "# Testing with already saved weights"
   ]
  },
  {
   "cell_type": "code",
   "execution_count": 8,
   "metadata": {},
   "outputs": [
    {
     "name": "stdout",
     "output_type": "stream",
     "text": [
      "Testing the low quality model\n"
     ]
    },
    {
     "name": "stdout",
     "output_type": "stream",
     "text": [
      "Test RMSE: 8.6956\n",
      "------------------\n",
      "Testing the high quality model\n",
      "Test RMSE: 11.6135\n",
      "------------------\n"
     ]
    }
   ],
   "source": [
    "\n",
    "# Test the low quality model\n",
    "print(\"Testing the low quality model\")\n",
    "test_model(low_quality_predictor_trained, low_test_dataloader, criterion, device)\n",
    "print(\"------------------\")\n",
    "\n",
    "# Test the high quality model\n",
    "print(\"Testing the high quality model\")\n",
    "test_model(high_quality_predictor_trained, high_test_dataloader, criterion, device)\n",
    "print(\"------------------\")\n"
   ]
  },
  {
   "cell_type": "code",
   "execution_count": 9,
   "metadata": {},
   "outputs": [
    {
     "data": {
      "image/png": "[encoded data removed]",
      "text/plain": [
       "<Figure size 1800x600 with 1 Axes>"
      ]
     },
     "metadata": {},
     "output_type": "display_data"
    },
    {
     "data": {
      "image/png": "[encoded data removed]",
      "text/plain": [
       "<Figure size 1800x600 with 1 Axes>"
      ]
     },
     "metadata": {},
     "output_type": "display_data"
    }
   ],
   "source": [
    "import torch\n",
    "import numpy as np\n",
    "import matplotlib.pyplot as plt\n",
    "from scipy.stats import spearmanr\n",
    "from sklearn.metrics import r2_score, mean_squared_error\n",
    "import matplotlib.gridspec as gridspec\n",
    "\n",
    "\n",
    "def compute_metrics(model, dataloader, device):\n",
    "    \"\"\"\n",
    "    Computes metrics for model evaluation including residuals.\n",
    "    \n",
    "    Args:\n",
    "        model (nn.Module): The trained model to evaluate\n",
    "        dataloader (DataLoader): Test dataloader containing images and true scores\n",
    "        device (str): Device to run the model on ('cuda' or 'cpu')\n",
    "        \n",
    "    Returns:\n",
    "        dict: Dictionary containing predictions, ground truth, and calculated metrics\n",
    "    \"\"\"\n",
    "    # Set model to evaluation mode\n",
    "    model.eval()\n",
    "    model.to(device)\n",
    "    \n",
    "    # Collect predictions and ground truth\n",
    "    pred_list = []\n",
    "    true_list = []\n",
    "    \n",
    "    with torch.no_grad():\n",
    "        for inputs, labels in dataloader:\n",
    "            inputs = inputs.to(device)\n",
    "            outputs, _ = model(inputs)\n",
    "            pred_list.append(outputs.cpu())\n",
    "            true_list.append(labels)\n",
    "    \n",
    "    # Concatenate batches\n",
    "    predictions = torch.cat(pred_list, dim=0).numpy()\n",
    "    ground_truth = torch.cat(true_list, dim=0).numpy()\n",
    "    \n",
    "    # Extract quality and authenticity scores\n",
    "    pred_quality = predictions\n",
    "    true_quality = ground_truth\n",
    "    \n",
    "    # Calculate residuals (important for understanding distribution)\n",
    "    quality_residuals = pred_quality - true_quality\n",
    "    \n",
    "    # Calculate correlation metrics for individual scores\n",
    "    quality_spearman, q_pvalue = spearmanr(pred_quality, true_quality)\n",
    "    \n",
    "    # Calculate R² scores\n",
    "    quality_r2 = r2_score(true_quality, pred_quality)\n",
    "    \n",
    "    \n",
    "    # Calculate RMSE scores\n",
    "    quality_rmse = np.sqrt(mean_squared_error(true_quality, pred_quality))\n",
    "   \n",
    "    # Create results dictionary\n",
    "    results = {\n",
    "        'predictions': {\n",
    "            'quality': pred_quality,\n",
    "        },\n",
    "        'ground_truth': {\n",
    "            'quality': true_quality,\n",
    "        },\n",
    "        'residuals': {\n",
    "            'quality': quality_residuals,\n",
    "        },\n",
    "        'metrics': {\n",
    "            'quality': {\n",
    "                'spearman': quality_spearman,\n",
    "                'p_value': q_pvalue,\n",
    "                'r2': quality_r2,\n",
    "                'rmse': quality_rmse\n",
    "            }\n",
    "        }\n",
    "    }\n",
    "    \n",
    "    return results\n",
    "\n",
    "def visualize_correlations(results, save_path=None, title=\"\"):\n",
    "    \"\"\"\n",
    "    Visualizes correlations and distributions from computed metrics.\n",
    "    \n",
    "    Args:\n",
    "        results (dict): Results dictionary from compute_metrics function\n",
    "        save_path (str, optional): Path to save the plot. If None, plot is displayed instead.\n",
    "        title (str): Title for the plot\n",
    "    \"\"\"\n",
    "    # Extract data from results dictionary\n",
    "    pred_quality = results['predictions']['quality']\n",
    "    true_quality = results['ground_truth']['quality']\n",
    "     \n",
    "    quality_residuals = results['residuals']['quality']\n",
    "    \n",
    "    # Get metrics\n",
    "    quality_metrics = results['metrics']['quality']\n",
    "    \n",
    "    # Create a larger figure with 3 rows and one column\n",
    "    fig = plt.figure(figsize=(16, 18))\n",
    "    fig.suptitle(title, fontsize=16)\n",
    "    gs = gridspec.GridSpec(3, 1, height_ratios=[1, 1, 1])\n",
    "    \n",
    "    # Create subplots\n",
    "    ax_quality = plt.Subplot(fig, gs[0])\n",
    "    ax_quality_res = plt.Subplot(fig, gs[1])\n",
    "    ax_quality_hist = plt.Subplot(fig, gs[2])\n",
    "\n",
    "    \n",
    "    # Function to plot correlation scatter plot\n",
    "    def plot_correlation(ax, true_vals, pred_vals, metrics, title_suffix):\n",
    "        ax.scatter(true_vals, pred_vals, alpha=0.7, color='blue')\n",
    "        \n",
    "        # Add identity line\n",
    "        min_val = min(min(true_vals), min(pred_vals))\n",
    "        max_val = max(max(true_vals), max(pred_vals))\n",
    "        ax.plot([min_val, max_val], [min_val, max_val], 'r--', label='Perfect prediction')\n",
    "        \n",
    "        # Add regression line\n",
    "        z = np.polyfit(true_vals, pred_vals, 1)\n",
    "        p = np.poly1d(z)\n",
    "        x_sorted = np.sort(true_vals)\n",
    "        ax.plot(x_sorted, p(x_sorted), 'g-', label=f'Best fit (y = {z[0]:.3f}x + {z[1]:.3f})')\n",
    "        \n",
    "        ax.set_xlabel('True Value')\n",
    "        ax.set_ylabel('Predicted Value')\n",
    "        ax.set_title(f'{title_suffix}\\nSpearman ρ = {metrics[\"spearman\"]:.4f}, R² = {metrics[\"r2\"]:.4f}, RMSE = {metrics[\"rmse\"]:.4f}')\n",
    "        ax.grid(alpha=0.3)\n",
    "        ax.legend(loc='upper left')\n",
    "    \n",
    "    # Function to plot residuals vs predicted\n",
    "    def plot_residuals(ax, pred_vals, residuals, title_suffix):\n",
    "        ax.scatter(pred_vals, residuals, alpha=0.7, color='orange')\n",
    "        ax.axhline(y=0, color='r', linestyle='--')\n",
    "        ax.set_xlabel('Predicted Value')\n",
    "        ax.set_ylabel('Residual (Pred - True)')\n",
    "        ax.set_title(f'{title_suffix} Residuals vs Predicted')\n",
    "        ax.grid(alpha=0.3)\n",
    "    \n",
    "    # Function to plot residual histogram\n",
    "    def plot_residual_hist(ax, residuals, title_suffix):\n",
    "        ax.hist(residuals, bins=20, alpha=0.7, color='green')\n",
    "        ax.axvline(x=0, color='r', linestyle='--')\n",
    "        ax.set_xlabel('Residual Value')\n",
    "        ax.set_ylabel('Frequency')\n",
    "        ax.set_title(f'{title_suffix} Residual Distribution')\n",
    "        # Add mean and std as text\n",
    "        mean_res = np.mean(residuals)\n",
    "        std_res = np.std(residuals)\n",
    "        ax.text(0.05, 0.95, f'Mean: {mean_res:.4f}\\nStd: {std_res:.4f}', \n",
    "                transform=ax.transAxes, verticalalignment='top',\n",
    "                bbox=dict(boxstyle='round', facecolor='white', alpha=0.7))\n",
    "    \n",
    "    # Plot all charts\n",
    "    plot_correlation(ax_quality, true_quality, pred_quality, quality_metrics, 'Quality Score')\n",
    "    plot_residuals(ax_quality_res, pred_quality, quality_residuals, 'Quality') \n",
    "    plot_residual_hist(ax_quality_hist, quality_residuals, 'Quality')\n",
    "    \n",
    "    plt.tight_layout()\n",
    "    \n",
    "    if save_path:\n",
    "        plt.savefig(save_path, dpi=300, bbox_inches='tight')\n",
    "    else:\n",
    "        plt.show()\n",
    "    \n",
    "    # Print summary statistics\n",
    "    print(\"-\" * 50)\n",
    "    print(f\"MODEL EVALUATION: {title}\")\n",
    "    print(\"-\" * 50)\n",
    "    print(f\"Quality Score - Spearman ρ: {quality_metrics['spearman']:.4f} (p-value: {quality_metrics['p_value']:.4g}), R²: {quality_metrics['r2']:.4f}, RMSE: {quality_metrics['rmse']:.4f}\")\n",
    "\n",
    "def plot_correlations(model, dataloader, device, save_path=None, title=\"\"):\n",
    "    \"\"\"\n",
    "    Wrapper function that computes metrics and visualizes correlations.\n",
    "    Maintains backward compatibility with the original function.\n",
    "    \n",
    "    Args:\n",
    "        model (nn.Module): The trained model to evaluate\n",
    "        dataloader (DataLoader): Test dataloader containing images and true scores\n",
    "        device (str): Device to run the model on ('cuda' or 'cpu')\n",
    "        save_path (str, optional): Path to save the plot. If None, plot is displayed instead.\n",
    "        title (str): Title for the plot\n",
    "        \n",
    "    Returns:\n",
    "        dict: Dictionary containing correlation metrics\n",
    "    \"\"\"\n",
    "    # Compute metrics\n",
    "    results = compute_metrics(model, dataloader, device)\n",
    "    \n",
    "    # Visualize results\n",
    "    visualize_correlations(results, save_path, title)\n",
    "    \n",
    "    # Return metrics for backward compatibility\n",
    "    return results['metrics']\n",
    "\n",
    "def true_vs_error_plot(results, save_path=None, title=\"\"):\n",
    "    \"\"\"\n",
    "    Create a plot of the true scores vs. the prediction errors (residuals) for the model.\n",
    "    \n",
    "    Args:\n",
    "        model (nn.Module): The trained model to evaluate\n",
    "        dataloader (DataLoader): Test dataloader containing images and true scores\n",
    "        device (str): Device to run the model on ('cuda' or 'cpu')\n",
    "        save_path (str, optional): Path to save the plot. If None, plot is displayed instead.\n",
    "        title (str): Title for the plot\n",
    "    \"\"\"\n",
    "    \n",
    "    # Extract residuals\n",
    "    quality_residuals = results['residuals']['quality']\n",
    "    \n",
    "    # Create a figure with 1 subplot\n",
    "    fig, ax = plt.subplots(1, 1, figsize=(18, 6))\n",
    "    fig.suptitle(title, fontsize=16)\n",
    "    \n",
    "    # Plot residuals\n",
    "    ax.scatter(results['ground_truth']['quality'], quality_residuals, alpha=0.7, color='blue')\n",
    "    ax.axhline(y=0, color='r', linestyle='--')\n",
    "    ax.set_xlabel('Quality True Value')\n",
    "    ax.set_ylabel('Quality Residual (Pred - True)')\n",
    "    ax.set_title('Quality Residuals vs True')\n",
    "    ax.grid(alpha=0.3)\n",
    "\n",
    "    plt.tight_layout()\n",
    "    \n",
    "    if save_path:\n",
    "        plt.savefig(save_path, dpi=300, bbox_inches='tight')\n",
    "    else:\n",
    "        plt.show()\n",
    "\n",
    "def pred_vs_error_plot(results, save_path=None, title=\"\"):\n",
    "    \"\"\"\n",
    "    Create a plot of the true scores vs. the prediction errors (residuals) for the model.\n",
    "    \n",
    "    Args:\n",
    "        model (nn.Module): The trained model to evaluate\n",
    "        dataloader (DataLoader): Test dataloader containing images and true scores\n",
    "        device (str): Device to run the model on ('cuda' or 'cpu')\n",
    "        save_path (str, optional): Path to save the plot. If None, plot is displayed instead.\n",
    "        title (str): Title for the plot\n",
    "    \"\"\"\n",
    "    \n",
    "    # Extract residuals\n",
    "    quality_residuals = results['residuals']['quality']\n",
    "\n",
    "    \n",
    "    # Create a figure with 3 subplots\n",
    "     # Create a figure with 1 subplot\n",
    "    fig, ax = plt.subplots(1, 1, figsize=(6 , 6))\n",
    "    fig.suptitle(title, fontsize=16)\n",
    "    \n",
    "    # Plot residuals\n",
    "    ax.scatter(results['predictions']['quality'], quality_residuals, alpha=0.7, color='blue')\n",
    "    ax.axhline(y=0, color='r', linestyle='--')\n",
    "    ax.set_xlabel('Quality Predicted Value')\n",
    "    ax.set_ylabel('Quality Residual (Pred - True)')\n",
    "    ax.set_title('Quality Residuals vs Predicted')\n",
    "    ax.grid(alpha=0.3)\n",
    "    \n",
    "\n",
    "\n",
    "    plt.tight_layout()\n",
    "    \n",
    "    if save_path:\n",
    "        plt.savefig(save_path, dpi=300, bbox_inches='tight')\n",
    "    else:\n",
    "        plt.show()\n",
    "\n",
    "\n",
    "\n",
    "LOW_QUALITY_PATH_NAME = 'Plots/low_quality_correlations.png'\n",
    "HIGH_QUALITY_PATH_NAME = 'Plots/high_quality_correlations.png'\n",
    "\n",
    "low_quality_results = compute_metrics(low_quality_predictor_trained, low_test_dataloader, device)\n",
    "high_quality_results = compute_metrics(high_quality_predictor_trained, high_test_dataloader, device)\n",
    "\n",
    "true_vs_error_plot(low_quality_results,save_path=\"Plots/baseline_true_vs_error.png\", title=\"LOW QUALITY MODEL\")\n",
    "true_vs_error_plot(high_quality_results,save_path=\"Plots/baseline_true_vs_error.png\", title=\"HIGH QUALITY MODEL\")\n",
    "\n",
    "low_q_results = compute_metrics(low_quality_predictor_trained, low_test_dataloader, device)\n",
    "high_q_results = compute_metrics(high_quality_predictor_trained, high_test_dataloader, device)\n",
    "\n",
    "\n",
    "\n"
   ]
  },
  {
   "cell_type": "code",
   "execution_count": 10,
   "metadata": {},
   "outputs": [
    {
     "name": "stdout",
     "output_type": "stream",
     "text": [
      "{'spearman': np.float64(0.24419751371623025), 'p_value': np.float64(0.007190939021120585), 'r2': -1.501298189163208, 'rmse': np.float64(8.695594145539758)}\n",
      "{'spearman': np.float64(0.1287658865198972), 'p_value': np.float64(0.16102344156867004), 'r2': -5.401072978973389, 'rmse': np.float64(11.613486874861405)}\n"
     ]
    }
   ],
   "source": [
    "print(low_q_results['metrics']['quality'])\n",
    "print(high_q_results['metrics']['quality'])\n",
    "\n",
    "\n"
   ]
  }
 ],
 "metadata": {
  "kernelspec": {
   "display_name": "base",
   "language": "python",
   "name": "python3"
  },
  "language_info": {
   "codemirror_mode": {
    "name": "ipython",
    "version": 3
   },
   "file_extension": ".py",
   "mimetype": "text/x-python",
   "name": "python",
   "nbconvert_exporter": "python",
   "pygments_lexer": "ipython3",
   "version": "3.11.8"
  }
 },
 "nbformat": 4,
 "nbformat_minor": 2
}
