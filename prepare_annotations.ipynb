{
 "cells": [
  {
   "cell_type": "code",
   "execution_count": 15,
   "metadata": {},
   "outputs": [],
   "source": [
    "import os\n",
    "import pandas as pd\n",
    "\n",
    "DIRECTORY = \"Dataset/AIGCIQA2023\"\n",
    "OUTPUT_FILE = \"full_annotations.csv\"\n",
    "PROMPTS_FILE = \"prompts.csv\"\n",
    "PROMPTS_REAL_IMAGES = \"prompts_real_images.csv\"\n",
    "ORIGINAL_ANNOTATIONS = \"mos_data.csv\"\n",
    "\n",
    "# Load the original annotations\n",
    "df = pd.read_csv(os.path.join(DIRECTORY, ORIGINAL_ANNOTATIONS))\n",
    "controlNet = df[:400]\n",
    "DallE = df[400:800]\n",
    "Glide = df[800:1200]\n",
    "laftie = df[1200:1600]\n",
    "stableDiff = df[1600:2000]\n",
    "undiffuser = df[2000:2400]"
   ]
  },
  {
   "cell_type": "code",
   "execution_count": 7,
   "metadata": {},
   "outputs": [],
   "source": [
    "# Load the propts\n",
    "prompts = pd.read_csv(os.path.join(DIRECTORY, PROMPTS_FILE))\n",
    "# Create a structure-like dataframe with the prompts for the concatenation\n",
    "new_prompts = prompts.loc[prompts.index.repeat(4)].reset_index(drop=True)\n"
   ]
  },
  {
   "cell_type": "code",
   "execution_count": 10,
   "metadata": {},
   "outputs": [],
   "source": [
    "# Complete fix for all concatenations\n",
    "controlNet_reset = controlNet.reset_index(drop=True)\n",
    "DallE_reset = DallE.reset_index(drop=True)\n",
    "Glide_reset = Glide.reset_index(drop=True)\n",
    "laftie_reset = laftie.reset_index(drop=True)\n",
    "stableDiff_reset = stableDiff.reset_index(drop=True)\n",
    "undiffuser_reset = undiffuser.reset_index(drop=True)\n",
    "new_prompts_reset = new_prompts.reset_index(drop=True)\n",
    "\n",
    "# Now concatenate them correctly\n",
    "new_controlNet = pd.concat([controlNet_reset, new_prompts_reset], axis=1)\n",
    "new_DallE = pd.concat([DallE_reset, new_prompts_reset], axis=1)\n",
    "new_Glide = pd.concat([Glide_reset, new_prompts_reset], axis=1)\n",
    "new_laftie = pd.concat([laftie_reset, new_prompts_reset], axis=1)\n",
    "new_stableDiff = pd.concat([stableDiff_reset, new_prompts_reset], axis=1)\n",
    "new_undiffuser = pd.concat([undiffuser_reset, new_prompts_reset], axis=1)\n"
   ]
  },
  {
   "cell_type": "code",
   "execution_count": 12,
   "metadata": {},
   "outputs": [],
   "source": [
    "# concat all the dataframes in a final one\n",
    "final_annotations = pd.concat([new_controlNet, new_DallE, new_Glide, new_laftie, new_stableDiff, new_undiffuser], axis=0)\n",
    "\n",
    "# Save the final annotations\n",
    "final_annotations.to_csv(os.path.join(DIRECTORY, OUTPUT_FILE), index=False)"
   ]
  },
  {
   "cell_type": "code",
   "execution_count": null,
   "metadata": {},
   "outputs": [
    {
     "name": "stdout",
     "output_type": "stream",
     "text": [
      "0                                               a corgi\n",
      "1                                                a girl\n",
      "2                                                a boat\n",
      "3                                               a bench\n",
      "4                                              a flower\n",
      "5                                        a green pepper\n",
      "6                                          a book cover\n",
      "7                                             a kitchen\n",
      "8                                      a fall landscape\n",
      "9         a photo of san francisco's golden gate bridge\n",
      "10    A giraffe walking through a green grass covere...\n",
      "11                               a woman with long hair\n",
      "12                     A red bus is driving on the road\n",
      "13                        a pumpkin with a candle in it\n",
      "14                                A bowl of Chicken Pho\n",
      "15                 a coffee table with a magazine on it\n",
      "16                                  Sunset over the sea\n",
      "17                       a boat in the canals of venice\n",
      "18    a grandmother reading a book to her grandson a...\n",
      "19    a blue semi-truck and its trailer jumping over...\n",
      "20        a tree reflected in the sunroof of a blue car\n",
      "21    a pineapple with one beer to its left and two ...\n",
      "22    A cozy living room with a painting of a corgi ...\n",
      "23        Snow mountain and tree reflection in the lake\n",
      "24             a library filled with kids reading books\n",
      "25     a large white yacht in a calm bay on a sunny day\n",
      "26          a small garden with an apple tree behind it\n",
      "27              a bloody mary cocktail next to a napkin\n",
      "28    A bare kitchen has wood cabinets and white app...\n",
      "29    a fall landscape with a small cottage next to ...\n",
      "30                          Four cats surrounding a dog\n",
      "31                            three children on a couch\n",
      "32                    two motorcycles facing each other\n",
      "33                             two red balls on a table\n",
      "34                                       ten red apples\n",
      "35                                  three green peppers\n",
      "36                        two pianos next to each other\n",
      "37         a tennis court with three yellow cones on it\n",
      "38    Times Square with thousands of dogs running ar...\n",
      "39    view of a giraffe and a zebra in the middle of...\n",
      "40                         two people facing each other\n",
      "41    an overhead view of a pickup truck with boxes ...\n",
      "42                     view of a clock tower from above\n",
      "43                     a cross-section view of a walnut\n",
      "44              a close-up of an old-fashioned cocktail\n",
      "45                      an aerial view of a dining room\n",
      "46       an aerial photo of a sandy island in the ocean\n",
      "47                     an aerial view of the Great Wall\n",
      "48                  A bird gives an apple to a squirrel\n",
      "49                     a classroom without any students\n",
      "50                                a car with no windows\n",
      "51                             a closet without clothes\n",
      "52                            a banana without its peel\n",
      "53    a plate that has no bananas on it. there is a ...\n",
      "54                     a kitchen without a refrigerator\n",
      "55                            a street without vehicles\n",
      "56      An aerial view of Ha Long Bay without any boats\n",
      "Name: Prompt, dtype: object\n"
     ]
    }
   ],
   "source": [
    "# get the prompts for the real images\n",
    "prompts_real_images = pd.read_csv(os.path.join(DIRECTORY, PROMPTS_REAL_IMAGES))['Prompt']\n",
    "\n",
    "# filter the real images from the final annotations and save them (take only the prompts in the prompts_real_images)\n",
    "real_images = final_annotations[final_annotations['Prompt'].isin(prompts_real_images)]\n",
    "real_images.to_csv(os.path.join(DIRECTORY, 'real_images_annotations.csv'), index=False)"
   ]
  },
  {
   "cell_type": "code",
   "execution_count": null,
   "metadata": {},
   "outputs": [],
   "source": []
  }
 ],
 "metadata": {
  "kernelspec": {
   "display_name": "base",
   "language": "python",
   "name": "python3"
  },
  "language_info": {
   "codemirror_mode": {
    "name": "ipython",
    "version": 3
   },
   "file_extension": ".py",
   "mimetype": "text/x-python",
   "name": "python",
   "nbconvert_exporter": "python",
   "pygments_lexer": "ipython3",
   "version": "3.11.11"
  }
 },
 "nbformat": 4,
 "nbformat_minor": 2
}
