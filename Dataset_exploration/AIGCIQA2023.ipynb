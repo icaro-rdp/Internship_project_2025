{
 "cells": [
  {
   "cell_type": "code",
   "execution_count": null,
   "id": "b37cf498",
   "metadata": {
    "lines_to_next_cell": 2
   },
   "outputs": [],
   "source": [
    "import scipy.io as sio\n",
    "import os\n",
    "from PIL import Image\n",
    "import numpy as np\n",
    "import matplotlib.pyplot as plt"
   ]
  },
  {
   "cell_type": "code",
   "execution_count": null,
   "id": "76725ca3",
   "metadata": {},
   "outputs": [],
   "source": [
    "\n",
    "images_folder = './Dataset/AIGCIQA2023/Image/allimg/'\n",
    "batches = ['controlNet', 'DallE', 'GLIDE', 'laftie', 'Stable diff', 'undiffuser']"
   ]
  },
  {
   "cell_type": "markdown",
   "id": "2807ef6b",
   "metadata": {},
   "source": [
    "- 0-399 are controlNet\n",
    "- 400-799 are DallE\n",
    "- 800-1199 are GLIDE\n",
    "- 1200-1599 are laftie\n",
    "- 1600-1999 are Stable diff\n",
    "- 2000-2399 are undiffuser"
   ]
  },
  {
   "cell_type": "code",
   "execution_count": null,
   "id": "e1e44239",
   "metadata": {
    "lines_to_next_cell": 1
   },
   "outputs": [],
   "source": [
    "def load_mos_data(filepath):\n",
    "    return sio.loadmat(os.getcwd()+filepath)['MOSz']"
   ]
  },
  {
   "cell_type": "code",
   "execution_count": null,
   "id": "8e1c689b",
   "metadata": {
    "lines_to_next_cell": 1
   },
   "outputs": [],
   "source": [
    "\n",
    "mos_quality = load_mos_data('/Dataset/AIGCIQA2023/DATA/MOS/mosz1.mat')\n",
    "mos_autenticity = load_mos_data('/Dataset/AIGCIQA2023/DATA/MOS/mosz2.mat')\n",
    "mos_correspondende = load_mos_data('/Dataset/AIGCIQA2023/DATA/MOS/mosz3.mat')"
   ]
  },
  {
   "cell_type": "code",
   "execution_count": null,
   "id": "3bc40d73",
   "metadata": {
    "lines_to_next_cell": 1
   },
   "outputs": [],
   "source": [
    "def read_image(path):\n",
    "    with Image.open(path) as img:\n",
    "        return np.array(img)"
   ]
  },
  {
   "cell_type": "code",
   "execution_count": null,
   "id": "4a49e76c",
   "metadata": {
    "lines_to_next_cell": 1
   },
   "outputs": [],
   "source": [
    "def show_image(img, name):\n",
    "    plt.imshow(img)\n",
    "    plt.title(name)\n",
    "    plt.show()"
   ]
  },
  {
   "cell_type": "code",
   "execution_count": null,
   "id": "844ec297",
   "metadata": {
    "lines_to_next_cell": 1
   },
   "outputs": [],
   "source": [
    "def display_batch_images(batch_name):\n",
    "    batch_index = batches.index(batch_name)\n",
    "    max_image_index = 2399\n",
    "    images_to_skip = 400\n",
    "    images_per_batch = 4\n",
    "\n",
    "    for i in range(0, max_image_index, images_to_skip):\n",
    "        for j in range(0, images_per_batch):\n",
    "            image_index = i + j + (images_per_batch * batch_index)\n",
    "            image_path = os.path.join(images_folder, f'{image_index}.png')\n",
    "            img = read_image(image_path)\n",
    "            show_image(img, f'{batch_name} - {image_index}.png')"
   ]
  },
  {
   "cell_type": "code",
   "execution_count": 21,
   "id": "1d4cd356",
   "metadata": {},
   "outputs": [],
   "source": [
    "import pandas as pd\n",
    "\n",
    "\n",
    "mos_data = pd.DataFrame({\n",
    "    'Quality': mos_quality.flatten(),\n",
    "    'Autenticity': mos_autenticity.flatten(),\n",
    "    'Correspondence': mos_correspondende.flatten(),\n",
    "    'image_path': [os.path.join(images_folder, f'{i}.png') for i in range(2400)],\n",
    "    'model': [batches[i//400] for i in range(2400)],\n",
    "})\n",
    "\n",
    "# save the data to a csv file\n",
    "mos_data.to_csv('mos_data.csv', index=False)\n",
    "\n",
    "\n",
    "\n",
    "\n"
   ]
  }
 ],
 "metadata": {
  "jupytext": {
   "cell_metadata_filter": "-all",
   "main_language": "python",
   "notebook_metadata_filter": "-all"
  },
  "kernelspec": {
   "display_name": "base",
   "language": "python",
   "name": "python3"
  },
  "language_info": {
   "codemirror_mode": {
    "name": "ipython",
    "version": 3
   },
   "file_extension": ".py",
   "mimetype": "text/x-python",
   "name": "python",
   "nbconvert_exporter": "python",
   "pygments_lexer": "ipython3",
   "version": "3.11.8"
  }
 },
 "nbformat": 4,
 "nbformat_minor": 5
}
