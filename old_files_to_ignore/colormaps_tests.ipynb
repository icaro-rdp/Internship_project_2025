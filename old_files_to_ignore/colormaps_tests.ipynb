{
 "cells": [
  {
   "cell_type": "code",
   "execution_count": null,
   "id": "19251991",
   "metadata": {},
   "outputs": [],
   "source": [
    "import numpy as np\n",
    "import matplotlib.pyplot as plt\n",
    "from matplotlib.colors import TwoSlopeNorm\n",
    "from matplotlib import cm\n",
    "\n",
    "# List of good diverging colormaps to try\n",
    "diverging_cmaps = [\n",
    "    'seismic',\n",
    "    'coolwarm',\n",
    "    'bwr',\n",
    "    'RdBu_r',\n",
    "    'PiYG',\n",
    "    'PRGn',\n",
    "    'BrBG',\n",
    "    'RdGy',\n",
    "    'PuOr',\n",
    "    'Spectral'\n",
    "]\n",
    "\n",
    "# Matrix with values from -1 to 1\n",
    "data = np.random.uniform(-1, 1, (10, 10))\n",
    "\n",
    "# Normalize with center at 0\n",
    "norm = TwoSlopeNorm(vmin=-1, vcenter=0, vmax=1)\n",
    "\n",
    "# Plot all colormaps\n",
    "n = len(diverging_cmaps)\n",
    "fig, axs = plt.subplots(1, n, figsize=(3*n, 4), constrained_layout=True)\n",
    "\n",
    "for ax, cmap_name in zip(axs, diverging_cmaps):\n",
    "    im = ax.imshow(data, cmap=cm.get_cmap(cmap_name), norm=norm)\n",
    "    ax.set_title(cmap_name)\n",
    "    ax.axis('off')\n",
    "\n",
    "# Add colorbar separately\n",
    "fig.colorbar(im, ax=axs, orientation='vertical', fraction=0.02, pad=0.04, label='Value')\n",
    "plt.suptitle(\"Diverging Colormaps on [-1, 1] Data\", fontsize=16)\n",
    "plt.show()"
   ]
  }
 ],
 "metadata": {
  "language_info": {
   "name": "python"
  }
 },
 "nbformat": 4,
 "nbformat_minor": 5
}
