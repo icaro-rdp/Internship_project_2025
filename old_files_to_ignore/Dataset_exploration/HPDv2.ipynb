{
 "cells": [
  {
   "cell_type": "markdown",
   "metadata": {},
   "source": [
    "HPDv2 dataset"
   ]
  },
  {
   "cell_type": "code",
   "execution_count": null,
   "metadata": {},
   "outputs": [],
   "source": [
    "import torch\n",
    "from PIL import Image\n",
    "import matplotlib.pyplot as plt\n",
    "import numpy as np\n",
    "#check if cuda is available\n",
    "device = torch.device('cuda' if torch.cuda.is_available() else 'cpu')\n",
    "print(device)"
   ]
  },
  {
   "cell_type": "code",
   "execution_count": null,
   "metadata": {
    "id": "LnEtirV1Ma5W"
   },
   "outputs": [],
   "source": [
    "from datasets import load_dataset\n",
    "# Reload the dataset\n",
    "train = load_dataset(\"ymhao/HPDv2\", split='train')\n",
    "test = load_dataset(\"ymhao/HPDv2\", split='test')"
   ]
  },
  {
   "cell_type": "markdown",
   "metadata": {},
   "source": [
    "Dataset Structure\n",
    "The annotation files in the JSON are annotated as follows:\n",
    "\n",
    "```json\n",
    "[\n",
    "    {\n",
    "        'human_preference': list[int], # 1 for preference\n",
    "        'prompt': str,\n",
    "        'image_path': list[str] !!! need to be decoded !!!\n",
    "    },\n",
    "    \n",
    "]\n",
    "```\n",
    "\n",
    "The annotation file, test.json, is organized as:\n",
    "\n",
    "```json\n",
    "[\n",
    "    {\n",
    "        'prompt': str,\n",
    "        'image_path': list[str] # note that the strings are arrays of image paths encoded as strings, thus !!! need to be decoded !!!\n",
    "        'rank': list[int], # averaged ranking result for image at the same index in image_path,\n",
    "        'user_hash': list[str]  # user hash for each image at the same index in image_path, !!! need to be decoded !!!\n",
    "    },\n",
    "    \n",
    "]\n",
    "```\n",
    "\n"
   ]
  },
  {
   "cell_type": "code",
   "execution_count": null,
   "metadata": {},
   "outputs": [],
   "source": [
    "# this function will show the images in the dataset with the label and rank or human preference if available, util to visualize the dataset.\n",
    "def show_images(dataset, index=0):\n",
    "        images = dataset[index]['image']\n",
    "        label = dataset[index]['prompt']\n",
    "        rank = dataset[index]['rank'] \n",
    "        human_preference = dataset[index]['human_preference']\n",
    "        \n",
    "        for i in range(len(images)):\n",
    "            plt.imshow(images[i])\n",
    "            plt.title(f'{label}')\n",
    "            ## if rank is not available, use human preference\n",
    "            if rank:\n",
    "                plt.xlabel(f'{rank[i]}')\n",
    "                # if rank[i] == 1 add a green border\n",
    "                if rank[i] == 1:\n",
    "                    plt.gca().spines['left'].set_color('green')\n",
    "                    plt.gca().spines['right'].set_color('green')\n",
    "                    plt.gca().spines['top'].set_color('green')\n",
    "                    plt.gca().spines['bottom'].set_color('green')\n",
    "                    plt.gca().spines['left'].set_linewidth(5)\n",
    "                    plt.gca().spines['right'].set_linewidth(5)\n",
    "                    plt.gca().spines['top'].set_linewidth(5)\n",
    "                    plt.gca().spines['bottom'].set_linewidth(5)\n",
    "                \n",
    "                \n",
    "            else:\n",
    "                plt.xlabel(f'{human_preference[i]}')\n",
    "                # if human preference is 1 add a green border with witdth 5\n",
    "                if human_preference[i] == 1:\n",
    "                    plt.gca().spines['left'].set_color('green')\n",
    "                    plt.gca().spines['right'].set_color('green')\n",
    "                    plt.gca().spines['top'].set_color('green')\n",
    "                    plt.gca().spines['bottom'].set_color('green')\n",
    "                    plt.gca().spines['left'].set_linewidth(5)\n",
    "                    plt.gca().spines['right'].set_linewidth(5)\n",
    "                    plt.gca().spines['top'].set_linewidth(5)\n",
    "                    plt.gca().spines['bottom'].set_linewidth(5)\n",
    "            plt.show()\n",
    "            \n",
    "        return images\n",
    "\n",
    "show_images(train, 1)\n",
    "show_images(test, 1)\n"
   ]
  },
  {
   "cell_type": "code",
   "execution_count": null,
   "metadata": {},
   "outputs": [],
   "source": []
  }
 ],
 "metadata": {
  "colab": {
   "provenance": []
  },
  "kernelspec": {
   "display_name": "base",
   "language": "python",
   "name": "python3"
  },
  "language_info": {
   "codemirror_mode": {
    "name": "ipython",
    "version": 3
   },
   "file_extension": ".py",
   "mimetype": "text/x-python",
   "name": "python",
   "nbconvert_exporter": "python",
   "pygments_lexer": "ipython3",
   "version": "3.11.8"
  }
 },
 "nbformat": 4,
 "nbformat_minor": 4
}
